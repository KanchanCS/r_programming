{
  "nbformat": 4,
  "nbformat_minor": 0,
  "metadata": {
    "colab": {
      "provenance": [],
      "authorship_tag": "ABX9TyPdCIlWqzInSKjgBAjWrKkw",
      "include_colab_link": true
    },
    "kernelspec": {
      "name": "ir",
      "display_name": "R"
    },
    "language_info": {
      "name": "R"
    }
  },
  "cells": [
    {
      "cell_type": "markdown",
      "metadata": {
        "id": "view-in-github",
        "colab_type": "text"
      },
      "source": [
        "<a href=\"https://colab.research.google.com/github/KanchanCS/r_programming/blob/main/R_.ipynb\" target=\"_parent\"><img src=\"https://colab.research.google.com/assets/colab-badge.svg\" alt=\"Open In Colab\"/></a>"
      ]
    },
    {
      "cell_type": "markdown",
      "source": [
        "### R is a programming language.\n",
        "\n",
        "### R is often used for statistical computing and graphical presentation to analyze and visualize data.\n",
        "## what is R\n",
        "### R is a popular programming language used for statistical computing and graphical presentation.\n",
        "\n",
        "### Its most common use is to analyze and visualize data."
      ],
      "metadata": {
        "id": "gnI9uFh2pNze"
      }
    },
    {
      "cell_type": "markdown",
      "source": [
        "## Why Use R?\n",
        "* It is a great resource for data analysis, data visualization, data science and machine learning\n",
        "* It provides many statistical techniques (such as statistical tests, classification, clustering and data reduction)\n",
        "* It is easy to draw graphs in R, like pie charts, histograms, box plot, scatter plot, etc++\n",
        "* It works on different platforms (Windows, Mac, Linux)\n",
        "* It is open-source and free\n",
        "* It has a large community support\n",
        "* It has many packages (libraries of functions) that can be used to solve different problems"
      ],
      "metadata": {
        "id": "cmG41lthrCLf"
      }
    },
    {
      "cell_type": "code",
      "execution_count": null,
      "metadata": {
        "colab": {
          "base_uri": "https://localhost:8080/",
          "height": 34
        },
        "id": "b7C6S65KoHpg",
        "outputId": "fa56d8dc-6757-414f-9486-4e60600591a4"
      },
      "outputs": [
        {
          "output_type": "display_data",
          "data": {
            "text/html": [
              "'Hello World!'"
            ],
            "text/markdown": "'Hello World!'",
            "text/latex": "'Hello World!'",
            "text/plain": [
              "[1] \"Hello World!\""
            ]
          },
          "metadata": {}
        }
      ],
      "source": [
        "\"Hello World!\""
      ]
    },
    {
      "cell_type": "code",
      "source": [
        "5+5"
      ],
      "metadata": {
        "colab": {
          "base_uri": "https://localhost:8080/",
          "height": 34
        },
        "id": "6Pl1Nj-foNwv",
        "outputId": "51de12a4-fca6-46f2-ca5a-35cd3c060005"
      },
      "execution_count": null,
      "outputs": [
        {
          "output_type": "display_data",
          "data": {
            "text/html": [
              "10"
            ],
            "text/markdown": "10",
            "text/latex": "10",
            "text/plain": [
              "[1] 10"
            ]
          },
          "metadata": {}
        }
      ]
    },
    {
      "cell_type": "code",
      "source": [
        "5\n",
        "2"
      ],
      "metadata": {
        "colab": {
          "base_uri": "https://localhost:8080/",
          "height": 52
        },
        "id": "r-zCnXOArwsa",
        "outputId": "87d6fc25-c552-43ee-d844-bce65d319553"
      },
      "execution_count": null,
      "outputs": [
        {
          "output_type": "display_data",
          "data": {
            "text/html": [
              "5"
            ],
            "text/markdown": "5",
            "text/latex": "5",
            "text/plain": [
              "[1] 5"
            ]
          },
          "metadata": {}
        },
        {
          "output_type": "display_data",
          "data": {
            "text/html": [
              "2"
            ],
            "text/markdown": "2",
            "text/latex": "2",
            "text/plain": [
              "[1] 2"
            ]
          },
          "metadata": {}
        }
      ]
    },
    {
      "cell_type": "code",
      "source": [
        "print(\"hello\")"
      ],
      "metadata": {
        "colab": {
          "base_uri": "https://localhost:8080/"
        },
        "id": "Hp0v5E_trw8T",
        "outputId": "78d13181-5dd7-448d-f931-cd6acf27248f"
      },
      "execution_count": null,
      "outputs": [
        {
          "output_type": "stream",
          "name": "stdout",
          "text": [
            "[1] \"hello\"\n"
          ]
        }
      ]
    },
    {
      "cell_type": "code",
      "source": [
        "for (i in 1:10)\n",
        "{\n",
        "  print(i)\n",
        "}"
      ],
      "metadata": {
        "colab": {
          "base_uri": "https://localhost:8080/"
        },
        "id": "ooXyQTAXrw_5",
        "outputId": "5f407ee9-21e0-4477-fed6-f5786c66ffa8"
      },
      "execution_count": null,
      "outputs": [
        {
          "output_type": "stream",
          "name": "stdout",
          "text": [
            "[1] 1\n",
            "[1] 2\n",
            "[1] 3\n",
            "[1] 4\n",
            "[1] 5\n",
            "[1] 6\n",
            "[1] 7\n",
            "[1] 8\n",
            "[1] 9\n",
            "[1] 10\n"
          ]
        }
      ]
    },
    {
      "cell_type": "code",
      "source": [
        "name <- \"jon\"\n",
        "age <- 24\n",
        "name\n",
        "age"
      ],
      "metadata": {
        "colab": {
          "base_uri": "https://localhost:8080/",
          "height": 52
        },
        "id": "Ccb3C7dzY0H1",
        "outputId": "2114158f-c278-496c-9aed-8822dc82742e"
      },
      "execution_count": null,
      "outputs": [
        {
          "output_type": "display_data",
          "data": {
            "text/html": [
              "'jon'"
            ],
            "text/markdown": "'jon'",
            "text/latex": "'jon'",
            "text/plain": [
              "[1] \"jon\""
            ]
          },
          "metadata": {}
        },
        {
          "output_type": "display_data",
          "data": {
            "text/html": [
              "24"
            ],
            "text/markdown": "24",
            "text/latex": "24",
            "text/plain": [
              "[1] 24"
            ]
          },
          "metadata": {}
        }
      ]
    },
    {
      "cell_type": "markdown",
      "source": [
        "## Concatenate Elements\n",
        "### You can also concatenate, or join, two or more elements, by using the paste() function.\n",
        "\n",
        "### To combine both text and a variable, R uses comma (,):"
      ],
      "metadata": {
        "id": "_ZLxAc0na2Ja"
      }
    },
    {
      "cell_type": "code",
      "source": [
        "text = \"awesome\"\n",
        "paste(\"R is\", text)"
      ],
      "metadata": {
        "colab": {
          "base_uri": "https://localhost:8080/",
          "height": 34
        },
        "id": "NttYFjkPY0Vd",
        "outputId": "206e1829-cf64-4790-df47-a7164d056c29"
      },
      "execution_count": null,
      "outputs": [
        {
          "output_type": "display_data",
          "data": {
            "text/html": [
              "'R is awesome'"
            ],
            "text/markdown": "'R is awesome'",
            "text/latex": "'R is awesome'",
            "text/plain": [
              "[1] \"R is awesome\""
            ]
          },
          "metadata": {}
        }
      ]
    },
    {
      "cell_type": "code",
      "source": [
        "text1 <- \"Hello I AM\"\n",
        "text2 <- \"Programmer\"\n",
        "paste (text1, text2)"
      ],
      "metadata": {
        "colab": {
          "base_uri": "https://localhost:8080/",
          "height": 34
        },
        "id": "1adNvpIRY0X1",
        "outputId": "96ecaca1-f5a1-4d5c-fd31-2ef022901132"
      },
      "execution_count": null,
      "outputs": [
        {
          "output_type": "display_data",
          "data": {
            "text/html": [
              "'Hello I AM Programmer'"
            ],
            "text/markdown": "'Hello I AM Programmer'",
            "text/latex": "'Hello I AM Programmer'",
            "text/plain": [
              "[1] \"Hello I AM Programmer\""
            ]
          },
          "metadata": {}
        }
      ]
    },
    {
      "cell_type": "markdown",
      "source": [
        "### For numbers, the + character works as a mathematical operator:"
      ],
      "metadata": {
        "id": "KEwUeUxvd5am"
      }
    },
    {
      "cell_type": "code",
      "source": [
        "name1 <- 12\n",
        "name2 <- 13\n",
        "name1 + name2"
      ],
      "metadata": {
        "colab": {
          "base_uri": "https://localhost:8080/",
          "height": 34
        },
        "id": "ohTfmCLHY0aN",
        "outputId": "b65b1d1c-0593-4e0c-95e3-e8c5391ee48e"
      },
      "execution_count": null,
      "outputs": [
        {
          "output_type": "display_data",
          "data": {
            "text/html": [
              "25"
            ],
            "text/markdown": "25",
            "text/latex": "25",
            "text/plain": [
              "[1] 25"
            ]
          },
          "metadata": {}
        }
      ]
    },
    {
      "cell_type": "markdown",
      "source": [
        "## Variable Names\n",
        "### A variable can have a short name (like x and y) or a more descriptive name (age, carname, total_volume). Rules for R variables are:\n",
        "* A variable name must start with a letter and can be a combination of letters, digits, period(.)\n",
        "and underscore(_). If it starts with period(.), it cannot be followed by a digit.\n",
        "* A variable name cannot start with a number or underscore (_)\n",
        "* Variable names are case-sensitive (age, Age and AGE are three different variables)\n",
        "* Reserved words cannot be used as variables (TRUE, FALSE, NULL, if...)"
      ],
      "metadata": {
        "id": "Ct-u2cMI7Sno"
      }
    },
    {
      "cell_type": "code",
      "source": [
        "myvar <- \"jon\"\n",
        "my_var <- \"jon\"\n",
        "myVAR <- \"jon\"\n",
        "MYVAR <- \"jon\"\n",
        "myvar2 <- \"jon\"\n",
        ".myvar <- \"jon\""
      ],
      "metadata": {
        "id": "D8bQ_zyNY0ds"
      },
      "execution_count": null,
      "outputs": []
    },
    {
      "cell_type": "code",
      "source": [
        "1myvar <- \"jon\"\n",
        "_myvar <- \"jon\"\n",
        "my-var <- \"jon\""
      ],
      "metadata": {
        "colab": {
          "base_uri": "https://localhost:8080/",
          "height": 130
        },
        "id": "YHG1ij5Y8GYQ",
        "outputId": "b5c3ffb6-9b7b-484a-88ff-1d08389cfe0e"
      },
      "execution_count": null,
      "outputs": [
        {
          "output_type": "error",
          "ename": "ERROR",
          "evalue": "ignored",
          "traceback": [
            "Error in parse(text = x, srcfile = src): <text>:1:2: unexpected symbol\n1: 1myvar\n     ^\nTraceback:\n"
          ]
        }
      ]
    },
    {
      "cell_type": "markdown",
      "source": [
        "## Assignment of Variables"
      ],
      "metadata": {
        "id": "2zTxfj_4XXcN"
      }
    },
    {
      "cell_type": "code",
      "source": [
        "var <- 10\n",
        "var1 = 20\n",
        "var3 <- 30\n",
        "var\n",
        "var1\n",
        "cat(\"Add variable:\\n\",var,\" \",var1,\"\\n\", var3)"
      ],
      "metadata": {
        "id": "5gKrlilK8Gm8",
        "colab": {
          "base_uri": "https://localhost:8080/",
          "height": 104
        },
        "outputId": "0d7fc41b-e546-4416-bbbe-974eaad173ac"
      },
      "execution_count": 9,
      "outputs": [
        {
          "output_type": "display_data",
          "data": {
            "text/html": [
              "10"
            ],
            "text/markdown": "10",
            "text/latex": "10",
            "text/plain": [
              "[1] 10"
            ]
          },
          "metadata": {}
        },
        {
          "output_type": "display_data",
          "data": {
            "text/html": [
              "20"
            ],
            "text/markdown": "20",
            "text/latex": "20",
            "text/plain": [
              "[1] 20"
            ]
          },
          "metadata": {}
        },
        {
          "output_type": "stream",
          "name": "stdout",
          "text": [
            "Add variable:\n",
            " 10   20 \n",
            " 30"
          ]
        }
      ]
    },
    {
      "cell_type": "markdown",
      "source": [
        "## Data Types\n",
        "* In programming, data type is an important concept.\n",
        "\n",
        "* Variables can store data of different types, and different types can do different things.\n",
        "\n",
        "* In R, variables do not need to be declared with any particular type, and can even change type after they have been set:\n",
        "\n"
      ],
      "metadata": {
        "id": "qDgtNEvaZHgL"
      }
    },
    {
      "cell_type": "markdown",
      "source": [
        "### Basic Data Types\n",
        "##### Basic data types in R can be divided into the following types:\n",
        "\n",
        "* numeric - (10.5, 55, 787)\n",
        "* integer - (1L, 55L, 100L, where the letter \"L\" declares this as an integer)\n",
        "* complex - (9 + 3i, where \"i\" is the imaginary part)\n",
        "* character (a.k.a. string) - (\"k\", \"R is exciting\", \"FALSE\", \"11.5\")\n",
        "* logical (a.k.a. boolean) - (TRUE or FALSE)"
      ],
      "metadata": {
        "id": "IvTU7wrcjdCM"
      }
    },
    {
      "cell_type": "code",
      "source": [
        "num <- 10\n",
        "class(num)\n",
        "typeof(num)"
      ],
      "metadata": {
        "id": "2D8KceE78GpW",
        "colab": {
          "base_uri": "https://localhost:8080/",
          "height": 52
        },
        "outputId": "6fc9ff33-9f4b-4a58-ce51-235af5a9d481"
      },
      "execution_count": 14,
      "outputs": [
        {
          "output_type": "display_data",
          "data": {
            "text/html": [
              "'numeric'"
            ],
            "text/markdown": "'numeric'",
            "text/latex": "'numeric'",
            "text/plain": [
              "[1] \"numeric\""
            ]
          },
          "metadata": {}
        },
        {
          "output_type": "display_data",
          "data": {
            "text/html": [
              "'double'"
            ],
            "text/markdown": "'double'",
            "text/latex": "'double'",
            "text/plain": [
              "[1] \"double\""
            ]
          },
          "metadata": {}
        }
      ]
    },
    {
      "cell_type": "code",
      "source": [
        "int <- 15L\n",
        "class(int)"
      ],
      "metadata": {
        "id": "2k8FIFrC8Grm",
        "colab": {
          "base_uri": "https://localhost:8080/",
          "height": 34
        },
        "outputId": "69d92d72-d9db-4443-879e-0b46228fe594"
      },
      "execution_count": 15,
      "outputs": [
        {
          "output_type": "display_data",
          "data": {
            "text/html": [
              "'integer'"
            ],
            "text/markdown": "'integer'",
            "text/latex": "'integer'",
            "text/plain": [
              "[1] \"integer\""
            ]
          },
          "metadata": {}
        }
      ]
    },
    {
      "cell_type": "code",
      "source": [
        "int <- 15\n",
        "class(int)\n",
        "typeof(int)"
      ],
      "metadata": {
        "id": "ZJK7QWg38Gtk",
        "colab": {
          "base_uri": "https://localhost:8080/",
          "height": 52
        },
        "outputId": "fd5dfc63-3a04-4a92-982b-312d58f9aa40"
      },
      "execution_count": 19,
      "outputs": [
        {
          "output_type": "display_data",
          "data": {
            "text/html": [
              "'integer'"
            ],
            "text/markdown": "'integer'",
            "text/latex": "'integer'",
            "text/plain": [
              "[1] \"integer\""
            ]
          },
          "metadata": {}
        },
        {
          "output_type": "display_data",
          "data": {
            "text/html": [
              "'integer'"
            ],
            "text/markdown": "'integer'",
            "text/latex": "'integer'",
            "text/plain": [
              "[1] \"integer\""
            ]
          },
          "metadata": {}
        }
      ]
    },
    {
      "cell_type": "code",
      "source": [
        "complex_1 <-  2+3i\n",
        "class(complex_1)"
      ],
      "metadata": {
        "id": "buMPtOT78Gvl",
        "colab": {
          "base_uri": "https://localhost:8080/",
          "height": 34
        },
        "outputId": "c91b611b-eb80-41d3-ef25-2064738814a5"
      },
      "execution_count": 20,
      "outputs": [
        {
          "output_type": "display_data",
          "data": {
            "text/html": [
              "'complex'"
            ],
            "text/markdown": "'complex'",
            "text/latex": "'complex'",
            "text/plain": [
              "[1] \"complex\""
            ]
          },
          "metadata": {}
        }
      ]
    },
    {
      "cell_type": "code",
      "source": [
        "char <- \"num\"\n",
        "class(char)"
      ],
      "metadata": {
        "id": "d0xjmeX88Gy9",
        "colab": {
          "base_uri": "https://localhost:8080/",
          "height": 34
        },
        "outputId": "2b35c1d4-ae8a-4e86-f7b0-bf0ebfd253ea"
      },
      "execution_count": 21,
      "outputs": [
        {
          "output_type": "display_data",
          "data": {
            "text/html": [
              "'character'"
            ],
            "text/markdown": "'character'",
            "text/latex": "'character'",
            "text/plain": [
              "[1] \"character\""
            ]
          },
          "metadata": {}
        }
      ]
    },
    {
      "cell_type": "code",
      "source": [
        "a <- TRUE\n",
        "class(a)"
      ],
      "metadata": {
        "colab": {
          "base_uri": "https://localhost:8080/",
          "height": 34
        },
        "id": "A3KEZXLI1X6k",
        "outputId": "f9f7f1dd-dcee-4d29-c75d-8a51cf5265e4"
      },
      "execution_count": 22,
      "outputs": [
        {
          "output_type": "display_data",
          "data": {
            "text/html": [
              "'logical'"
            ],
            "text/markdown": "'logical'",
            "text/latex": "'logical'",
            "text/plain": [
              "[1] \"logical\""
            ]
          },
          "metadata": {}
        }
      ]
    },
    {
      "cell_type": "markdown",
      "source": [
        "## Converting Data type in R"
      ],
      "metadata": {
        "id": "AM2q_oIm2avG"
      }
    },
    {
      "cell_type": "code",
      "source": [
        "num <- as.numeric(15L)\n",
        "num\n",
        "num1 <- as.numeric(27-55i)\n",
        "num1\n",
        "num2 <- as.numeric(TRUE)\n",
        "num2\n",
        "num3 <- as.numeric(\"mmmjklm\")\n",
        "num3\n",
        "num4 <- as.numeric(\"12344\")\n",
        "num4"
      ],
      "metadata": {
        "colab": {
          "base_uri": "https://localhost:8080/",
          "height": 173
        },
        "id": "JlH0kMKy1X9c",
        "outputId": "d23652f1-7542-41c4-9a13-cade20558be6"
      },
      "execution_count": 34,
      "outputs": [
        {
          "output_type": "display_data",
          "data": {
            "text/html": [
              "15"
            ],
            "text/markdown": "15",
            "text/latex": "15",
            "text/plain": [
              "[1] 15"
            ]
          },
          "metadata": {}
        },
        {
          "output_type": "stream",
          "name": "stderr",
          "text": [
            "Warning message in eval(expr, envir, enclos):\n",
            "“imaginary parts discarded in coercion”\n"
          ]
        },
        {
          "output_type": "display_data",
          "data": {
            "text/html": [
              "27"
            ],
            "text/markdown": "27",
            "text/latex": "27",
            "text/plain": [
              "[1] 27"
            ]
          },
          "metadata": {}
        },
        {
          "output_type": "display_data",
          "data": {
            "text/html": [
              "1"
            ],
            "text/markdown": "1",
            "text/latex": "1",
            "text/plain": [
              "[1] 1"
            ]
          },
          "metadata": {}
        },
        {
          "output_type": "stream",
          "name": "stderr",
          "text": [
            "Warning message in eval(expr, envir, enclos):\n",
            "“NAs introduced by coercion”\n"
          ]
        },
        {
          "output_type": "display_data",
          "data": {
            "text/html": [
              "&lt;NA&gt;"
            ],
            "text/markdown": "&lt;NA&gt;",
            "text/latex": "<NA>",
            "text/plain": [
              "[1] NA"
            ]
          },
          "metadata": {}
        },
        {
          "output_type": "display_data",
          "data": {
            "text/html": [
              "12344"
            ],
            "text/markdown": "12344",
            "text/latex": "12344",
            "text/plain": [
              "[1] 12344"
            ]
          },
          "metadata": {}
        }
      ]
    },
    {
      "cell_type": "code",
      "source": [
        "int <- as.integer(15L)\n",
        "int\n",
        "int1 <- as.integer(27-55i)\n",
        "int1\n",
        "int2 <- as.integer(TRUE)\n",
        "int2\n",
        "int3 <- as.integer(\"mmmjklm\")\n",
        "int3\n",
        "int4 <- as.integer(\"12344\")\n",
        "int4"
      ],
      "metadata": {
        "colab": {
          "base_uri": "https://localhost:8080/",
          "height": 173
        },
        "id": "kqycsc4L1YAN",
        "outputId": "e30c6307-b8c0-435d-a003-2651311edf77"
      },
      "execution_count": 41,
      "outputs": [
        {
          "output_type": "display_data",
          "data": {
            "text/html": [
              "TRUE"
            ],
            "text/markdown": "TRUE",
            "text/latex": "TRUE",
            "text/plain": [
              "[1] TRUE"
            ]
          },
          "metadata": {}
        },
        {
          "output_type": "stream",
          "name": "stderr",
          "text": [
            "Warning message in eval(expr, envir, enclos):\n",
            "“imaginary parts discarded in coercion”\n"
          ]
        },
        {
          "output_type": "display_data",
          "data": {
            "text/html": [
              "27"
            ],
            "text/markdown": "27",
            "text/latex": "27",
            "text/plain": [
              "[1] 27"
            ]
          },
          "metadata": {}
        },
        {
          "output_type": "display_data",
          "data": {
            "text/html": [
              "1"
            ],
            "text/markdown": "1",
            "text/latex": "1",
            "text/plain": [
              "[1] 1"
            ]
          },
          "metadata": {}
        },
        {
          "output_type": "stream",
          "name": "stderr",
          "text": [
            "Warning message in eval(expr, envir, enclos):\n",
            "“NAs introduced by coercion”\n"
          ]
        },
        {
          "output_type": "display_data",
          "data": {
            "text/html": [
              "&lt;NA&gt;"
            ],
            "text/markdown": "&lt;NA&gt;",
            "text/latex": "<NA>",
            "text/plain": [
              "[1] NA"
            ]
          },
          "metadata": {}
        },
        {
          "output_type": "display_data",
          "data": {
            "text/html": [
              "12344"
            ],
            "text/markdown": "12344",
            "text/latex": "12344",
            "text/plain": [
              "[1] 12344"
            ]
          },
          "metadata": {}
        }
      ]
    },
    {
      "cell_type": "code",
      "source": [
        "log <- as.logical(15L)\n",
        "log\n",
        "log1 <- as.logical(15-44i)\n",
        "log1\n",
        "log2 <- as.logical(TRUE)\n",
        "log2\n",
        "log3 <- as.logical(\"ghvghvhgv\")\n",
        "log3\n",
        "log4 <- as.logical(\"45555\")\n",
        "log4"
      ],
      "metadata": {
        "colab": {
          "base_uri": "https://localhost:8080/",
          "height": 104
        },
        "id": "UX-TY_g91YCk",
        "outputId": "08435df5-6659-41a4-e029-eb3af34a6584"
      },
      "execution_count": 47,
      "outputs": [
        {
          "output_type": "display_data",
          "data": {
            "text/html": [
              "TRUE"
            ],
            "text/markdown": "TRUE",
            "text/latex": "TRUE",
            "text/plain": [
              "[1] TRUE"
            ]
          },
          "metadata": {}
        },
        {
          "output_type": "display_data",
          "data": {
            "text/html": [
              "TRUE"
            ],
            "text/markdown": "TRUE",
            "text/latex": "TRUE",
            "text/plain": [
              "[1] TRUE"
            ]
          },
          "metadata": {}
        },
        {
          "output_type": "display_data",
          "data": {
            "text/html": [
              "TRUE"
            ],
            "text/markdown": "TRUE",
            "text/latex": "TRUE",
            "text/plain": [
              "[1] TRUE"
            ]
          },
          "metadata": {}
        },
        {
          "output_type": "display_data",
          "data": {
            "text/html": [
              "&lt;NA&gt;"
            ],
            "text/markdown": "&lt;NA&gt;",
            "text/latex": "<NA>",
            "text/plain": [
              "[1] NA"
            ]
          },
          "metadata": {}
        },
        {
          "output_type": "display_data",
          "data": {
            "text/html": [
              "&lt;NA&gt;"
            ],
            "text/markdown": "&lt;NA&gt;",
            "text/latex": "<NA>",
            "text/plain": [
              "[1] NA"
            ]
          },
          "metadata": {}
        }
      ]
    },
    {
      "cell_type": "markdown",
      "source": [
        "## Built-in Math Functions"
      ],
      "metadata": {
        "id": "4kd9BAzS9H1m"
      }
    },
    {
      "cell_type": "code",
      "source": [
        "min (15,8,34)\n",
        "max (15,8,34)"
      ],
      "metadata": {
        "colab": {
          "base_uri": "https://localhost:8080/",
          "height": 52
        },
        "id": "uO2LP_aW1YFY",
        "outputId": "f73ba21a-e0f2-42cf-e1ec-f7eaf86a57c3"
      },
      "execution_count": 51,
      "outputs": [
        {
          "output_type": "display_data",
          "data": {
            "text/html": [
              "8"
            ],
            "text/markdown": "8",
            "text/latex": "8",
            "text/plain": [
              "[1] 8"
            ]
          },
          "metadata": {}
        },
        {
          "output_type": "display_data",
          "data": {
            "text/html": [
              "34"
            ],
            "text/markdown": "34",
            "text/latex": "34",
            "text/plain": [
              "[1] 34"
            ]
          },
          "metadata": {}
        }
      ]
    },
    {
      "cell_type": "code",
      "source": [
        "sqrt(16) #The sqrt() function returns the square root of a number:"
      ],
      "metadata": {
        "colab": {
          "base_uri": "https://localhost:8080/",
          "height": 34
        },
        "id": "Ty5RNZDf1YHN",
        "outputId": "03d57632-c623-408d-e2d5-e433bcc43594"
      },
      "execution_count": 55,
      "outputs": [
        {
          "output_type": "display_data",
          "data": {
            "text/html": [
              "4"
            ],
            "text/markdown": "4",
            "text/latex": "4",
            "text/plain": [
              "[1] 4"
            ]
          },
          "metadata": {}
        }
      ]
    },
    {
      "cell_type": "code",
      "source": [
        "abs(-57) #The abs() function returns the absolute (positive) value of a number:"
      ],
      "metadata": {
        "colab": {
          "base_uri": "https://localhost:8080/",
          "height": 34
        },
        "id": "97zLJqW01YL1",
        "outputId": "5c92f36d-b7d4-4b2f-9c5c-7960e87a79d5"
      },
      "execution_count": 56,
      "outputs": [
        {
          "output_type": "display_data",
          "data": {
            "text/html": [
              "57"
            ],
            "text/markdown": "57",
            "text/latex": "57",
            "text/plain": [
              "[1] 57"
            ]
          },
          "metadata": {}
        }
      ]
    },
    {
      "cell_type": "markdown",
      "source": [
        "## ceiling() and floor()\n",
        "* ceiling() function rounds a number upwards to its nearest integer\n",
        "* floor() function rounds a number downwards to its nearest integer, and returns the result:"
      ],
      "metadata": {
        "id": "hSY-wskW_hFL"
      }
    },
    {
      "cell_type": "markdown",
      "source": [
        "###  find the number of characters in a string, use the nchar() function:"
      ],
      "metadata": {
        "id": "IsWPWxA0CTxt"
      }
    },
    {
      "cell_type": "code",
      "source": [
        "str <- \"eknml\"\n",
        "nchar(str)\n"
      ],
      "metadata": {
        "colab": {
          "base_uri": "https://localhost:8080/",
          "height": 34
        },
        "id": "sdiWDJhy1YON",
        "outputId": "83c79b8c-8821-4af7-eb8c-cc9c23b33021"
      },
      "execution_count": 61,
      "outputs": [
        {
          "output_type": "display_data",
          "data": {
            "text/html": [
              "5"
            ],
            "text/markdown": "5",
            "text/latex": "5",
            "text/plain": [
              "[1] 5"
            ]
          },
          "metadata": {}
        }
      ]
    },
    {
      "cell_type": "markdown",
      "source": [
        "### Use the grepl() function to check if a character or a sequence of characters are present in a string:"
      ],
      "metadata": {
        "id": "Zx3Kdfm1CdMA"
      }
    },
    {
      "cell_type": "code",
      "source": [
        "a <- \"hello world\"\n",
        "grepl(\"H\",str)\n"
      ],
      "metadata": {
        "colab": {
          "base_uri": "https://localhost:8080/",
          "height": 34
        },
        "id": "yh6GdWyu1YRm",
        "outputId": "26b9195e-2795-462e-c447-472ab099ac4d"
      },
      "execution_count": 66,
      "outputs": [
        {
          "output_type": "display_data",
          "data": {
            "text/html": [
              "FALSE"
            ],
            "text/markdown": "FALSE",
            "text/latex": "FALSE",
            "text/plain": [
              "[1] FALSE"
            ]
          },
          "metadata": {}
        }
      ]
    },
    {
      "cell_type": "markdown",
      "source": [
        "## Combine Two Strings\n",
        "* Use the paste() function to merge/concatenate two strings:"
      ],
      "metadata": {
        "id": "03vQSyD9DloR"
      }
    },
    {
      "cell_type": "code",
      "source": [
        "str1 <- \"Hello\"\n",
        "str2 <- \"World\"\n",
        "\n",
        "paste(str1, str2)"
      ],
      "metadata": {
        "colab": {
          "base_uri": "https://localhost:8080/",
          "height": 34
        },
        "id": "Yf4VHn7SBfiq",
        "outputId": "7420f370-82c9-4163-9ac8-b8d50892e1ff"
      },
      "execution_count": 67,
      "outputs": [
        {
          "output_type": "display_data",
          "data": {
            "text/html": [
              "'Hello World'"
            ],
            "text/markdown": "'Hello World'",
            "text/latex": "'Hello World'",
            "text/plain": [
              "[1] \"Hello World\""
            ]
          },
          "metadata": {}
        }
      ]
    },
    {
      "cell_type": "markdown",
      "source": [
        "### Booleans (Logical Values)\n",
        "* TRUE or FALSE.\n",
        "\n",
        "* When you compare two values"
      ],
      "metadata": {
        "id": "cO1K_hKDEtKr"
      }
    },
    {
      "cell_type": "code",
      "source": [
        "14 > 6\n",
        "1 > 4\n",
        "1 == 1"
      ],
      "metadata": {
        "colab": {
          "base_uri": "https://localhost:8080/",
          "height": 69
        },
        "id": "EKTAN82UBfoL",
        "outputId": "6ad6e1cc-5a4d-4cbf-ccc0-729bfe3a974b"
      },
      "execution_count": 71,
      "outputs": [
        {
          "output_type": "display_data",
          "data": {
            "text/html": [
              "TRUE"
            ],
            "text/markdown": "TRUE",
            "text/latex": "TRUE",
            "text/plain": [
              "[1] TRUE"
            ]
          },
          "metadata": {}
        },
        {
          "output_type": "display_data",
          "data": {
            "text/html": [
              "FALSE"
            ],
            "text/markdown": "FALSE",
            "text/latex": "FALSE",
            "text/plain": [
              "[1] FALSE"
            ]
          },
          "metadata": {}
        },
        {
          "output_type": "display_data",
          "data": {
            "text/html": [
              "TRUE"
            ],
            "text/markdown": "TRUE",
            "text/latex": "TRUE",
            "text/plain": [
              "[1] TRUE"
            ]
          },
          "metadata": {}
        }
      ]
    },
    {
      "cell_type": "code",
      "source": [
        "a <- 200\n",
        "b <- 33\n",
        "\n",
        "if (b > a) {\n",
        "  print (\"b is greater than a\")\n",
        "} else {\n",
        "  print(\"b is not greater than a\")\n",
        "}\n",
        "\n"
      ],
      "metadata": {
        "colab": {
          "base_uri": "https://localhost:8080/"
        },
        "id": "3eJnA0gXBfrp",
        "outputId": "e566cab3-cb38-41d0-f206-f3ddcc19e374"
      },
      "execution_count": 78,
      "outputs": [
        {
          "output_type": "stream",
          "name": "stdout",
          "text": [
            "[1] \"b is not greater than a\"\n"
          ]
        }
      ]
    },
    {
      "cell_type": "markdown",
      "source": [
        "## R If ... Else"
      ],
      "metadata": {
        "id": "xzjpmN2EIyVd"
      }
    },
    {
      "cell_type": "code",
      "source": [
        "a <- 12\n",
        "b <- 16\n",
        "if (b > a){\n",
        "  print(\"b grether then a\")\n",
        "} else{\n",
        "  print(\"a grether then b\")\n",
        "}"
      ],
      "metadata": {
        "colab": {
          "base_uri": "https://localhost:8080/"
        },
        "id": "hQIC6Q1qBfuQ",
        "outputId": "6e7427d1-ebe6-4db3-bdee-e013386e54ed"
      },
      "execution_count": 81,
      "outputs": [
        {
          "output_type": "stream",
          "name": "stdout",
          "text": [
            "[1] \"b grether then a\"\n"
          ]
        }
      ]
    },
    {
      "cell_type": "code",
      "source": [],
      "metadata": {
        "id": "qA8eb-2lBfxT"
      },
      "execution_count": 90,
      "outputs": []
    },
    {
      "cell_type": "code",
      "source": [],
      "metadata": {
        "id": "nWiF0-SEBfzp"
      },
      "execution_count": null,
      "outputs": []
    },
    {
      "cell_type": "code",
      "source": [],
      "metadata": {
        "id": "iIdV2r73Bf2i"
      },
      "execution_count": null,
      "outputs": []
    },
    {
      "cell_type": "code",
      "source": [],
      "metadata": {
        "id": "zIjI8oU-Bf5X"
      },
      "execution_count": null,
      "outputs": []
    },
    {
      "cell_type": "code",
      "source": [],
      "metadata": {
        "id": "kt23008RBf8q"
      },
      "execution_count": null,
      "outputs": []
    },
    {
      "cell_type": "markdown",
      "source": [
        "### How you can use R to easily create a graph with numbers from 1 to 10 on both the x and y axis:"
      ],
      "metadata": {
        "id": "SDAGY-M_pyeK"
      }
    },
    {
      "cell_type": "code",
      "source": [
        "plot(1:10)"
      ],
      "metadata": {
        "colab": {
          "base_uri": "https://localhost:8080/",
          "height": 437
        },
        "id": "BJVfk_fSp1Y8",
        "outputId": "ad52daf3-4255-4939-d6ce-965301693e13"
      },
      "execution_count": null,
      "outputs": [
        {
          "output_type": "display_data",
          "data": {
            "text/plain": [
              "plot without title"
            ],
            "image/png": "[encoded data removed]"
          },
          "metadata": {
            "image/png": {
              "width": 420,
              "height": 420
            }
          }
        }
      ]
    },
    {
      "cell_type": "code",
      "source": [],
      "metadata": {
        "id": "h5Uk2j4yp1zC"
      },
      "execution_count": null,
      "outputs": []
    },
    {
      "cell_type": "code",
      "source": [],
      "metadata": {
        "id": "fWDiWkjTp11d"
      },
      "execution_count": null,
      "outputs": []
    },
    {
      "cell_type": "code",
      "source": [],
      "metadata": {
        "id": "5WK5HKPUp13x"
      },
      "execution_count": null,
      "outputs": []
    },
    {
      "cell_type": "code",
      "source": [],
      "metadata": {
        "id": "fibGCSHxp16K"
      },
      "execution_count": null,
      "outputs": []
    },
    {
      "cell_type": "code",
      "source": [],
      "metadata": {
        "id": "me6kMQEvp18P"
      },
      "execution_count": null,
      "outputs": []
    },
    {
      "cell_type": "code",
      "source": [],
      "metadata": {
        "id": "3QUBzD4yp1-4"
      },
      "execution_count": null,
      "outputs": []
    },
    {
      "cell_type": "code",
      "source": [],
      "metadata": {
        "id": "H13bVh9np2CJ"
      },
      "execution_count": null,
      "outputs": []
    },
    {
      "cell_type": "code",
      "source": [],
      "metadata": {
        "id": "Oamo6jbGp2Fn"
      },
      "execution_count": null,
      "outputs": []
    }
  ]
}