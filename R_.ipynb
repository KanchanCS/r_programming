{
  "nbformat": 4,
  "nbformat_minor": 0,
  "metadata": {
    "colab": {
      "provenance": [],
      "authorship_tag": "ABX9TyN1D4J9ERmxKx6tC5pYWwsd",
      "include_colab_link": true
    },
    "kernelspec": {
      "name": "ir",
      "display_name": "R"
    },
    "language_info": {
      "name": "R"
    }
  },
  "cells": [
    {
      "cell_type": "markdown",
      "metadata": {
        "id": "view-in-github",
        "colab_type": "text"
      },
      "source": [
        "<a href=\"https://colab.research.google.com/github/KanchanCS/r_programming/blob/main/R_.ipynb\" target=\"_parent\"><img src=\"https://colab.research.google.com/assets/colab-badge.svg\" alt=\"Open In Colab\"/></a>"
      ]
    },
    {
      "cell_type": "markdown",
      "source": [
        "### R is a programming language.\n",
        "\n",
        "### R is often used for statistical computing and graphical presentation to analyze and visualize data.\n",
        "## what is R\n",
        "### R is a popular programming language used for statistical computing and graphical presentation.\n",
        "\n",
        "### Its most common use is to analyze and visualize data."
      ],
      "metadata": {
        "id": "gnI9uFh2pNze"
      }
    },
    {
      "cell_type": "markdown",
      "source": [
        "## Why Use R?\n",
        "* It is a great resource for data analysis, data visualization, data science and machine learning\n",
        "* It provides many statistical techniques (such as statistical tests, classification, clustering and data reduction)\n",
        "* It is easy to draw graphs in R, like pie charts, histograms, box plot, scatter plot, etc++\n",
        "* It works on different platforms (Windows, Mac, Linux)\n",
        "* It is open-source and free\n",
        "* It has a large community support\n",
        "* It has many packages (libraries of functions) that can be used to solve different problems"
      ],
      "metadata": {
        "id": "cmG41lthrCLf"
      }
    },
    {
      "cell_type": "code",
      "execution_count": null,
      "metadata": {
        "colab": {
          "base_uri": "https://localhost:8080/",
          "height": 34
        },
        "id": "b7C6S65KoHpg",
        "outputId": "fa56d8dc-6757-414f-9486-4e60600591a4"
      },
      "outputs": [
        {
          "output_type": "display_data",
          "data": {
            "text/html": [
              "'Hello World!'"
            ],
            "text/markdown": "'Hello World!'",
            "text/latex": "'Hello World!'",
            "text/plain": [
              "[1] \"Hello World!\""
            ]
          },
          "metadata": {}
        }
      ],
      "source": [
        "\"Hello World!\""
      ]
    },
    {
      "cell_type": "code",
      "source": [
        "5+5"
      ],
      "metadata": {
        "colab": {
          "base_uri": "https://localhost:8080/",
          "height": 34
        },
        "id": "6Pl1Nj-foNwv",
        "outputId": "51de12a4-fca6-46f2-ca5a-35cd3c060005"
      },
      "execution_count": null,
      "outputs": [
        {
          "output_type": "display_data",
          "data": {
            "text/html": [
              "10"
            ],
            "text/markdown": "10",
            "text/latex": "10",
            "text/plain": [
              "[1] 10"
            ]
          },
          "metadata": {}
        }
      ]
    },
    {
      "cell_type": "code",
      "source": [
        "5\n",
        "2"
      ],
      "metadata": {
        "colab": {
          "base_uri": "https://localhost:8080/",
          "height": 52
        },
        "id": "r-zCnXOArwsa",
        "outputId": "87d6fc25-c552-43ee-d844-bce65d319553"
      },
      "execution_count": null,
      "outputs": [
        {
          "output_type": "display_data",
          "data": {
            "text/html": [
              "5"
            ],
            "text/markdown": "5",
            "text/latex": "5",
            "text/plain": [
              "[1] 5"
            ]
          },
          "metadata": {}
        },
        {
          "output_type": "display_data",
          "data": {
            "text/html": [
              "2"
            ],
            "text/markdown": "2",
            "text/latex": "2",
            "text/plain": [
              "[1] 2"
            ]
          },
          "metadata": {}
        }
      ]
    },
    {
      "cell_type": "code",
      "source": [
        "print(\"hello\")"
      ],
      "metadata": {
        "colab": {
          "base_uri": "https://localhost:8080/"
        },
        "id": "Hp0v5E_trw8T",
        "outputId": "78d13181-5dd7-448d-f931-cd6acf27248f"
      },
      "execution_count": null,
      "outputs": [
        {
          "output_type": "stream",
          "name": "stdout",
          "text": [
            "[1] \"hello\"\n"
          ]
        }
      ]
    },
    {
      "cell_type": "code",
      "source": [
        "for (i in 1:10)\n",
        "{\n",
        "  print(i)\n",
        "}"
      ],
      "metadata": {
        "colab": {
          "base_uri": "https://localhost:8080/"
        },
        "id": "ooXyQTAXrw_5",
        "outputId": "5f407ee9-21e0-4477-fed6-f5786c66ffa8"
      },
      "execution_count": null,
      "outputs": [
        {
          "output_type": "stream",
          "name": "stdout",
          "text": [
            "[1] 1\n",
            "[1] 2\n",
            "[1] 3\n",
            "[1] 4\n",
            "[1] 5\n",
            "[1] 6\n",
            "[1] 7\n",
            "[1] 8\n",
            "[1] 9\n",
            "[1] 10\n"
          ]
        }
      ]
    },
    {
      "cell_type": "code",
      "source": [
        "name <- \"jon\"\n",
        "age <- 24\n",
        "name\n",
        "age"
      ],
      "metadata": {
        "colab": {
          "base_uri": "https://localhost:8080/",
          "height": 52
        },
        "id": "Ccb3C7dzY0H1",
        "outputId": "2114158f-c278-496c-9aed-8822dc82742e"
      },
      "execution_count": null,
      "outputs": [
        {
          "output_type": "display_data",
          "data": {
            "text/html": [
              "'jon'"
            ],
            "text/markdown": "'jon'",
            "text/latex": "'jon'",
            "text/plain": [
              "[1] \"jon\""
            ]
          },
          "metadata": {}
        },
        {
          "output_type": "display_data",
          "data": {
            "text/html": [
              "24"
            ],
            "text/markdown": "24",
            "text/latex": "24",
            "text/plain": [
              "[1] 24"
            ]
          },
          "metadata": {}
        }
      ]
    },
    {
      "cell_type": "markdown",
      "source": [
        "## Concatenate Elements\n",
        "### You can also concatenate, or join, two or more elements, by using the paste() function.\n",
        "\n",
        "### To combine both text and a variable, R uses comma (,):"
      ],
      "metadata": {
        "id": "_ZLxAc0na2Ja"
      }
    },
    {
      "cell_type": "code",
      "source": [
        "text = \"awesome\"\n",
        "paste(\"R is\", text)"
      ],
      "metadata": {
        "colab": {
          "base_uri": "https://localhost:8080/",
          "height": 34
        },
        "id": "NttYFjkPY0Vd",
        "outputId": "206e1829-cf64-4790-df47-a7164d056c29"
      },
      "execution_count": null,
      "outputs": [
        {
          "output_type": "display_data",
          "data": {
            "text/html": [
              "'R is awesome'"
            ],
            "text/markdown": "'R is awesome'",
            "text/latex": "'R is awesome'",
            "text/plain": [
              "[1] \"R is awesome\""
            ]
          },
          "metadata": {}
        }
      ]
    },
    {
      "cell_type": "code",
      "source": [
        "text1 <- \"Hello I AM\"\n",
        "text2 <- \"Programmer\"\n",
        "paste (text1, text2)"
      ],
      "metadata": {
        "colab": {
          "base_uri": "https://localhost:8080/",
          "height": 34
        },
        "id": "1adNvpIRY0X1",
        "outputId": "96ecaca1-f5a1-4d5c-fd31-2ef022901132"
      },
      "execution_count": null,
      "outputs": [
        {
          "output_type": "display_data",
          "data": {
            "text/html": [
              "'Hello I AM Programmer'"
            ],
            "text/markdown": "'Hello I AM Programmer'",
            "text/latex": "'Hello I AM Programmer'",
            "text/plain": [
              "[1] \"Hello I AM Programmer\""
            ]
          },
          "metadata": {}
        }
      ]
    },
    {
      "cell_type": "markdown",
      "source": [
        "### For numbers, the + character works as a mathematical operator:"
      ],
      "metadata": {
        "id": "KEwUeUxvd5am"
      }
    },
    {
      "cell_type": "code",
      "source": [
        "name1 <- 12\n",
        "name2 <- 13\n",
        "name1 + name2"
      ],
      "metadata": {
        "colab": {
          "base_uri": "https://localhost:8080/",
          "height": 34
        },
        "id": "ohTfmCLHY0aN",
        "outputId": "b65b1d1c-0593-4e0c-95e3-e8c5391ee48e"
      },
      "execution_count": null,
      "outputs": [
        {
          "output_type": "display_data",
          "data": {
            "text/html": [
              "25"
            ],
            "text/markdown": "25",
            "text/latex": "25",
            "text/plain": [
              "[1] 25"
            ]
          },
          "metadata": {}
        }
      ]
    },
    {
      "cell_type": "markdown",
      "source": [
        "## Variable Names\n",
        "### A variable can have a short name (like x and y) or a more descriptive name (age, carname, total_volume). Rules for R variables are:\n",
        "* A variable name must start with a letter and can be a combination of letters, digits, period(.)\n",
        "and underscore(_). If it starts with period(.), it cannot be followed by a digit.\n",
        "* A variable name cannot start with a number or underscore (_)\n",
        "* Variable names are case-sensitive (age, Age and AGE are three different variables)\n",
        "* Reserved words cannot be used as variables (TRUE, FALSE, NULL, if...)"
      ],
      "metadata": {
        "id": "Ct-u2cMI7Sno"
      }
    },
    {
      "cell_type": "code",
      "source": [
        "myvar <- \"jon\"\n",
        "my_var <- \"jon\"\n",
        "myVAR <- \"jon\"\n",
        "MYVAR <- \"jon\"\n",
        "myvar2 <- \"jon\"\n",
        ".myvar <- \"jon\""
      ],
      "metadata": {
        "id": "D8bQ_zyNY0ds"
      },
      "execution_count": null,
      "outputs": []
    },
    {
      "cell_type": "code",
      "source": [
        "1myvar <- \"jon\"\n",
        "_myvar <- \"jon\"\n",
        "my-var <- \"jon\""
      ],
      "metadata": {
        "colab": {
          "base_uri": "https://localhost:8080/",
          "height": 130
        },
        "id": "YHG1ij5Y8GYQ",
        "outputId": "b5c3ffb6-9b7b-484a-88ff-1d08389cfe0e"
      },
      "execution_count": null,
      "outputs": [
        {
          "output_type": "error",
          "ename": "ERROR",
          "evalue": "ignored",
          "traceback": [
            "Error in parse(text = x, srcfile = src): <text>:1:2: unexpected symbol\n1: 1myvar\n     ^\nTraceback:\n"
          ]
        }
      ]
    },
    {
      "cell_type": "code",
      "source": [],
      "metadata": {
        "id": "5gKrlilK8Gm8"
      },
      "execution_count": 1,
      "outputs": []
    },
    {
      "cell_type": "code",
      "source": [],
      "metadata": {
        "id": "2D8KceE78GpW"
      },
      "execution_count": null,
      "outputs": []
    },
    {
      "cell_type": "code",
      "source": [],
      "metadata": {
        "id": "2k8FIFrC8Grm"
      },
      "execution_count": null,
      "outputs": []
    },
    {
      "cell_type": "code",
      "source": [],
      "metadata": {
        "id": "ZJK7QWg38Gtk"
      },
      "execution_count": null,
      "outputs": []
    },
    {
      "cell_type": "code",
      "source": [],
      "metadata": {
        "id": "buMPtOT78Gvl"
      },
      "execution_count": null,
      "outputs": []
    },
    {
      "cell_type": "code",
      "source": [],
      "metadata": {
        "id": "d0xjmeX88Gy9"
      },
      "execution_count": null,
      "outputs": []
    },
    {
      "cell_type": "markdown",
      "source": [
        "### How you can use R to easily create a graph with numbers from 1 to 10 on both the x and y axis:"
      ],
      "metadata": {
        "id": "SDAGY-M_pyeK"
      }
    },
    {
      "cell_type": "code",
      "source": [
        "plot(1:10)"
      ],
      "metadata": {
        "colab": {
          "base_uri": "https://localhost:8080/",
          "height": 437
        },
        "id": "BJVfk_fSp1Y8",
        "outputId": "ad52daf3-4255-4939-d6ce-965301693e13"
      },
      "execution_count": null,
      "outputs": [
        {
          "output_type": "display_data",
          "data": {
            "text/plain": [
              "plot without title"
            ],
            "image/png": "[encoded data removed]"
          },
          "metadata": {
            "image/png": {
              "width": 420,
              "height": 420
            }
          }
        }
      ]
    },
    {
      "cell_type": "code",
      "source": [],
      "metadata": {
        "id": "h5Uk2j4yp1zC"
      },
      "execution_count": null,
      "outputs": []
    },
    {
      "cell_type": "code",
      "source": [],
      "metadata": {
        "id": "fWDiWkjTp11d"
      },
      "execution_count": null,
      "outputs": []
    },
    {
      "cell_type": "code",
      "source": [],
      "metadata": {
        "id": "5WK5HKPUp13x"
      },
      "execution_count": null,
      "outputs": []
    },
    {
      "cell_type": "code",
      "source": [],
      "metadata": {
        "id": "fibGCSHxp16K"
      },
      "execution_count": null,
      "outputs": []
    },
    {
      "cell_type": "code",
      "source": [],
      "metadata": {
        "id": "me6kMQEvp18P"
      },
      "execution_count": null,
      "outputs": []
    },
    {
      "cell_type": "code",
      "source": [],
      "metadata": {
        "id": "3QUBzD4yp1-4"
      },
      "execution_count": null,
      "outputs": []
    },
    {
      "cell_type": "code",
      "source": [],
      "metadata": {
        "id": "H13bVh9np2CJ"
      },
      "execution_count": null,
      "outputs": []
    },
    {
      "cell_type": "code",
      "source": [],
      "metadata": {
        "id": "Oamo6jbGp2Fn"
      },
      "execution_count": null,
      "outputs": []
    }
  ]
}