{
  "nbformat": 4,
  "nbformat_minor": 0,
  "metadata": {
    "colab": {
      "provenance": [],
      "authorship_tag": "ABX9TyPtFQAI9iTLgoi7uv6KG/XG",
      "include_colab_link": true
    },
    "kernelspec": {
      "name": "ir",
      "display_name": "R"
    },
    "language_info": {
      "name": "R"
    }
  },
  "cells": [
    {
      "cell_type": "markdown",
      "metadata": {
        "id": "view-in-github",
        "colab_type": "text"
      },
      "source": [
        "<a href=\"https://colab.research.google.com/github/KanchanCS/r_programming/blob/main/R_Data_Structures.ipynb\" target=\"_parent\"><img src=\"https://colab.research.google.com/assets/colab-badge.svg\" alt=\"Open In Colab\"/></a>"
      ]
    },
    {
      "cell_type": "markdown",
      "source": [
        "# Vectors\n",
        "* A vector is simply a list of items that are of the same type.\n",
        "\n",
        "* To combine the list of items to a vector, use the c() function and separate the items by a comma."
      ],
      "metadata": {
        "id": "uMyti8mOaxPT"
      }
    },
    {
      "cell_type": "code",
      "source": [
        "fruits <- c(\"banana\", \"apple\", \"orange\")\n",
        "fruits"
      ],
      "metadata": {
        "id": "hDMJ-6LoIzET",
        "colab": {
          "base_uri": "https://localhost:8080/",
          "height": 34
        },
        "outputId": "1dfbb31d-e898-4b8f-ab58-634f54ce225e"
      },
      "execution_count": 1,
      "outputs": [
        {
          "output_type": "display_data",
          "data": {
            "text/html": [
              "<style>\n",
              ".list-inline {list-style: none; margin:0; padding: 0}\n",
              ".list-inline>li {display: inline-block}\n",
              ".list-inline>li:not(:last-child)::after {content: \"\\00b7\"; padding: 0 .5ex}\n",
              "</style>\n",
              "<ol class=list-inline><li>'banana'</li><li>'apple'</li><li>'orange'</li></ol>\n"
            ],
            "text/markdown": "1. 'banana'\n2. 'apple'\n3. 'orange'\n\n\n",
            "text/latex": "\\begin{enumerate*}\n\\item 'banana'\n\\item 'apple'\n\\item 'orange'\n\\end{enumerate*}\n",
            "text/plain": [
              "[1] \"banana\" \"apple\"  \"orange\""
            ]
          },
          "metadata": {}
        }
      ]
    },
    {
      "cell_type": "code",
      "source": [
        "a <- c(1,2,3,4)\n",
        "a"
      ],
      "metadata": {
        "id": "C8nPY-kgIzHB",
        "colab": {
          "base_uri": "https://localhost:8080/",
          "height": 34
        },
        "outputId": "b2300090-a9ad-4e62-8662-7f38e0d22075"
      },
      "execution_count": 3,
      "outputs": [
        {
          "output_type": "display_data",
          "data": {
            "text/html": [
              "<style>\n",
              ".list-inline {list-style: none; margin:0; padding: 0}\n",
              ".list-inline>li {display: inline-block}\n",
              ".list-inline>li:not(:last-child)::after {content: \"\\00b7\"; padding: 0 .5ex}\n",
              "</style>\n",
              "<ol class=list-inline><li>1</li><li>2</li><li>3</li><li>4</li></ol>\n"
            ],
            "text/markdown": "1. 1\n2. 2\n3. 3\n4. 4\n\n\n",
            "text/latex": "\\begin{enumerate*}\n\\item 1\n\\item 2\n\\item 3\n\\item 4\n\\end{enumerate*}\n",
            "text/plain": [
              "[1] 1 2 3 4"
            ]
          },
          "metadata": {}
        }
      ]
    },
    {
      "cell_type": "code",
      "source": [
        "a <- 1:10\n",
        "a"
      ],
      "metadata": {
        "id": "c7-sSRS9IzJu",
        "colab": {
          "base_uri": "https://localhost:8080/",
          "height": 34
        },
        "outputId": "639e5f67-ed83-4da8-ee89-c27fdf72b6fb"
      },
      "execution_count": 4,
      "outputs": [
        {
          "output_type": "display_data",
          "data": {
            "text/html": [
              "<style>\n",
              ".list-inline {list-style: none; margin:0; padding: 0}\n",
              ".list-inline>li {display: inline-block}\n",
              ".list-inline>li:not(:last-child)::after {content: \"\\00b7\"; padding: 0 .5ex}\n",
              "</style>\n",
              "<ol class=list-inline><li>1</li><li>2</li><li>3</li><li>4</li><li>5</li><li>6</li><li>7</li><li>8</li><li>9</li><li>10</li></ol>\n"
            ],
            "text/markdown": "1. 1\n2. 2\n3. 3\n4. 4\n5. 5\n6. 6\n7. 7\n8. 8\n9. 9\n10. 10\n\n\n",
            "text/latex": "\\begin{enumerate*}\n\\item 1\n\\item 2\n\\item 3\n\\item 4\n\\item 5\n\\item 6\n\\item 7\n\\item 8\n\\item 9\n\\item 10\n\\end{enumerate*}\n",
            "text/plain": [
              " [1]  1  2  3  4  5  6  7  8  9 10"
            ]
          },
          "metadata": {}
        }
      ]
    },
    {
      "cell_type": "code",
      "source": [
        "# Vector with numerical decimals in a sequence\n",
        "numbers1 <- 1.5:6.5\n",
        "numbers1"
      ],
      "metadata": {
        "id": "6ObOh5VQIzMk",
        "colab": {
          "base_uri": "https://localhost:8080/",
          "height": 34
        },
        "outputId": "cc82a77d-5045-4ce5-bb3a-9fff3cfda7e0"
      },
      "execution_count": 5,
      "outputs": [
        {
          "output_type": "display_data",
          "data": {
            "text/html": [
              "<style>\n",
              ".list-inline {list-style: none; margin:0; padding: 0}\n",
              ".list-inline>li {display: inline-block}\n",
              ".list-inline>li:not(:last-child)::after {content: \"\\00b7\"; padding: 0 .5ex}\n",
              "</style>\n",
              "<ol class=list-inline><li>1.5</li><li>2.5</li><li>3.5</li><li>4.5</li><li>5.5</li><li>6.5</li></ol>\n"
            ],
            "text/markdown": "1. 1.5\n2. 2.5\n3. 3.5\n4. 4.5\n5. 5.5\n6. 6.5\n\n\n",
            "text/latex": "\\begin{enumerate*}\n\\item 1.5\n\\item 2.5\n\\item 3.5\n\\item 4.5\n\\item 5.5\n\\item 6.5\n\\end{enumerate*}\n",
            "text/plain": [
              "[1] 1.5 2.5 3.5 4.5 5.5 6.5"
            ]
          },
          "metadata": {}
        }
      ]
    },
    {
      "cell_type": "code",
      "source": [
        "numbers2 <- 1.5:6.3\n",
        "numbers2"
      ],
      "metadata": {
        "id": "mzresECLIzPL",
        "colab": {
          "base_uri": "https://localhost:8080/",
          "height": 34
        },
        "outputId": "0610ca1f-3761-4a32-ea51-dad546d2fcb0"
      },
      "execution_count": 6,
      "outputs": [
        {
          "output_type": "display_data",
          "data": {
            "text/html": [
              "<style>\n",
              ".list-inline {list-style: none; margin:0; padding: 0}\n",
              ".list-inline>li {display: inline-block}\n",
              ".list-inline>li:not(:last-child)::after {content: \"\\00b7\"; padding: 0 .5ex}\n",
              "</style>\n",
              "<ol class=list-inline><li>1.5</li><li>2.5</li><li>3.5</li><li>4.5</li><li>5.5</li></ol>\n"
            ],
            "text/markdown": "1. 1.5\n2. 2.5\n3. 3.5\n4. 4.5\n5. 5.5\n\n\n",
            "text/latex": "\\begin{enumerate*}\n\\item 1.5\n\\item 2.5\n\\item 3.5\n\\item 4.5\n\\item 5.5\n\\end{enumerate*}\n",
            "text/plain": [
              "[1] 1.5 2.5 3.5 4.5 5.5"
            ]
          },
          "metadata": {}
        }
      ]
    },
    {
      "cell_type": "code",
      "source": [
        "# Vector of logical values\n",
        "log_values <- c(TRUE, FALSE, TRUE, FALSE)\n",
        "\n",
        "log_values"
      ],
      "metadata": {
        "id": "hXW4ofBOIzSE",
        "colab": {
          "base_uri": "https://localhost:8080/",
          "height": 34
        },
        "outputId": "ada00cea-4cd7-40a6-872f-e072cd34c21e"
      },
      "execution_count": 7,
      "outputs": [
        {
          "output_type": "display_data",
          "data": {
            "text/html": [
              "<style>\n",
              ".list-inline {list-style: none; margin:0; padding: 0}\n",
              ".list-inline>li {display: inline-block}\n",
              ".list-inline>li:not(:last-child)::after {content: \"\\00b7\"; padding: 0 .5ex}\n",
              "</style>\n",
              "<ol class=list-inline><li>TRUE</li><li>FALSE</li><li>TRUE</li><li>FALSE</li></ol>\n"
            ],
            "text/markdown": "1. TRUE\n2. FALSE\n3. TRUE\n4. FALSE\n\n\n",
            "text/latex": "\\begin{enumerate*}\n\\item TRUE\n\\item FALSE\n\\item TRUE\n\\item FALSE\n\\end{enumerate*}\n",
            "text/plain": [
              "[1]  TRUE FALSE  TRUE FALSE"
            ]
          },
          "metadata": {}
        }
      ]
    },
    {
      "cell_type": "markdown",
      "source": [
        "## Vector Length\n",
        "* To find out how many items a vector has, use the length() function:"
      ],
      "metadata": {
        "id": "pE550UGZyF8m"
      }
    },
    {
      "cell_type": "code",
      "source": [
        "fruits <- c(\"banana\", \"apple\", \"orange\")\n",
        "\n",
        "length(fruits)"
      ],
      "metadata": {
        "id": "rEPjaawVIzVL",
        "colab": {
          "base_uri": "https://localhost:8080/",
          "height": 34
        },
        "outputId": "e1a7d392-70cd-453d-ad32-a561db39da85"
      },
      "execution_count": 8,
      "outputs": [
        {
          "output_type": "display_data",
          "data": {
            "text/html": [
              "3"
            ],
            "text/markdown": "3",
            "text/latex": "3",
            "text/plain": [
              "[1] 3"
            ]
          },
          "metadata": {}
        }
      ]
    },
    {
      "cell_type": "markdown",
      "source": [
        "## Sort a Vector\n",
        "* To sort items in a vector alphabetically or numerically, use the sort() function:"
      ],
      "metadata": {
        "id": "HZPNaEktyY9I"
      }
    },
    {
      "cell_type": "code",
      "source": [
        "fruits <- c(\"banana\", \"apple\", \"orange\", \"mango\", \"lemon\")\n",
        "numbers <- c(13, 3, 5, 7, 20, 2)\n",
        "\n",
        "sort(fruits)\n",
        "sort(numbers)"
      ],
      "metadata": {
        "id": "PZPq0GQwIzYY",
        "colab": {
          "base_uri": "https://localhost:8080/",
          "height": 52
        },
        "outputId": "899fb06a-21b0-478c-8c8e-4bbc819d9072"
      },
      "execution_count": 9,
      "outputs": [
        {
          "output_type": "display_data",
          "data": {
            "text/html": [
              "<style>\n",
              ".list-inline {list-style: none; margin:0; padding: 0}\n",
              ".list-inline>li {display: inline-block}\n",
              ".list-inline>li:not(:last-child)::after {content: \"\\00b7\"; padding: 0 .5ex}\n",
              "</style>\n",
              "<ol class=list-inline><li>'apple'</li><li>'banana'</li><li>'lemon'</li><li>'mango'</li><li>'orange'</li></ol>\n"
            ],
            "text/markdown": "1. 'apple'\n2. 'banana'\n3. 'lemon'\n4. 'mango'\n5. 'orange'\n\n\n",
            "text/latex": "\\begin{enumerate*}\n\\item 'apple'\n\\item 'banana'\n\\item 'lemon'\n\\item 'mango'\n\\item 'orange'\n\\end{enumerate*}\n",
            "text/plain": [
              "[1] \"apple\"  \"banana\" \"lemon\"  \"mango\"  \"orange\""
            ]
          },
          "metadata": {}
        },
        {
          "output_type": "display_data",
          "data": {
            "text/html": [
              "<style>\n",
              ".list-inline {list-style: none; margin:0; padding: 0}\n",
              ".list-inline>li {display: inline-block}\n",
              ".list-inline>li:not(:last-child)::after {content: \"\\00b7\"; padding: 0 .5ex}\n",
              "</style>\n",
              "<ol class=list-inline><li>2</li><li>3</li><li>5</li><li>7</li><li>13</li><li>20</li></ol>\n"
            ],
            "text/markdown": "1. 2\n2. 3\n3. 5\n4. 7\n5. 13\n6. 20\n\n\n",
            "text/latex": "\\begin{enumerate*}\n\\item 2\n\\item 3\n\\item 5\n\\item 7\n\\item 13\n\\item 20\n\\end{enumerate*}\n",
            "text/plain": [
              "[1]  2  3  5  7 13 20"
            ]
          },
          "metadata": {}
        }
      ]
    },
    {
      "cell_type": "markdown",
      "source": [
        "## Access Vectors\n",
        "* You can access the vector items by referring to its index number inside brackets []. The first item has index 1, the second item has index 2, and so on:"
      ],
      "metadata": {
        "id": "YNmRKmBxy6-q"
      }
    },
    {
      "cell_type": "code",
      "source": [
        "fruits <- c(\"banana\", \"apple\", \"orange\")\n",
        "fruits[1]"
      ],
      "metadata": {
        "id": "ClCnYk5wIzbK",
        "colab": {
          "base_uri": "https://localhost:8080/",
          "height": 34
        },
        "outputId": "cb6c36a4-a55a-4eab-e932-b78aeded8b79"
      },
      "execution_count": 10,
      "outputs": [
        {
          "output_type": "display_data",
          "data": {
            "text/html": [
              "'banana'"
            ],
            "text/markdown": "'banana'",
            "text/latex": "'banana'",
            "text/plain": [
              "[1] \"banana\""
            ]
          },
          "metadata": {}
        }
      ]
    },
    {
      "cell_type": "code",
      "source": [
        "fruits <- c(\"banana\", \"apple\", \"orange\", \"mango\", \"lemon\")\n",
        "\n",
        "# Access the first and third item (banana and orange)\n",
        "fruits[c(1, 3)]"
      ],
      "metadata": {
        "id": "bvugujJCIzdx",
        "colab": {
          "base_uri": "https://localhost:8080/",
          "height": 34
        },
        "outputId": "9f5faed0-497e-4fb5-e762-65d072287afd"
      },
      "execution_count": 11,
      "outputs": [
        {
          "output_type": "display_data",
          "data": {
            "text/html": [
              "<style>\n",
              ".list-inline {list-style: none; margin:0; padding: 0}\n",
              ".list-inline>li {display: inline-block}\n",
              ".list-inline>li:not(:last-child)::after {content: \"\\00b7\"; padding: 0 .5ex}\n",
              "</style>\n",
              "<ol class=list-inline><li>'banana'</li><li>'orange'</li></ol>\n"
            ],
            "text/markdown": "1. 'banana'\n2. 'orange'\n\n\n",
            "text/latex": "\\begin{enumerate*}\n\\item 'banana'\n\\item 'orange'\n\\end{enumerate*}\n",
            "text/plain": [
              "[1] \"banana\" \"orange\""
            ]
          },
          "metadata": {}
        }
      ]
    },
    {
      "cell_type": "code",
      "source": [
        "# You can also use negative index numbers to access all items except the ones specified:\n",
        "\n",
        "fruits <- c(\"banana\", \"apple\", \"orange\", \"mango\", \"lemon\")\n",
        "fruits[c(-1)]"
      ],
      "metadata": {
        "id": "Djt12SSUIzgp",
        "colab": {
          "base_uri": "https://localhost:8080/",
          "height": 34
        },
        "outputId": "9e33bca2-7f65-46a4-f774-a588a0ffc045"
      },
      "execution_count": 12,
      "outputs": [
        {
          "output_type": "display_data",
          "data": {
            "text/html": [
              "<style>\n",
              ".list-inline {list-style: none; margin:0; padding: 0}\n",
              ".list-inline>li {display: inline-block}\n",
              ".list-inline>li:not(:last-child)::after {content: \"\\00b7\"; padding: 0 .5ex}\n",
              "</style>\n",
              "<ol class=list-inline><li>'apple'</li><li>'orange'</li><li>'mango'</li><li>'lemon'</li></ol>\n"
            ],
            "text/markdown": "1. 'apple'\n2. 'orange'\n3. 'mango'\n4. 'lemon'\n\n\n",
            "text/latex": "\\begin{enumerate*}\n\\item 'apple'\n\\item 'orange'\n\\item 'mango'\n\\item 'lemon'\n\\end{enumerate*}\n",
            "text/plain": [
              "[1] \"apple\"  \"orange\" \"mango\"  \"lemon\" "
            ]
          },
          "metadata": {}
        }
      ]
    },
    {
      "cell_type": "markdown",
      "source": [
        "## Change an Item\n",
        "* To change the value of a specific item, refer to the index number:"
      ],
      "metadata": {
        "id": "GLWN98uAznm3"
      }
    },
    {
      "cell_type": "code",
      "source": [
        "fruits <- c(\"banana\", \"apple\", \"orange\", \"mango\", \"lemon\")\n",
        "\n",
        "# Change \"banana\" to \"pear\"\n",
        "fruits[1] <- \"pear\"\n",
        "fruits"
      ],
      "metadata": {
        "id": "Q9l9LPBVIzji",
        "colab": {
          "base_uri": "https://localhost:8080/",
          "height": 34
        },
        "outputId": "9c10c954-e78e-448c-aead-955e0984124c"
      },
      "execution_count": 13,
      "outputs": [
        {
          "output_type": "display_data",
          "data": {
            "text/html": [
              "<style>\n",
              ".list-inline {list-style: none; margin:0; padding: 0}\n",
              ".list-inline>li {display: inline-block}\n",
              ".list-inline>li:not(:last-child)::after {content: \"\\00b7\"; padding: 0 .5ex}\n",
              "</style>\n",
              "<ol class=list-inline><li>'pear'</li><li>'apple'</li><li>'orange'</li><li>'mango'</li><li>'lemon'</li></ol>\n"
            ],
            "text/markdown": "1. 'pear'\n2. 'apple'\n3. 'orange'\n4. 'mango'\n5. 'lemon'\n\n\n",
            "text/latex": "\\begin{enumerate*}\n\\item 'pear'\n\\item 'apple'\n\\item 'orange'\n\\item 'mango'\n\\item 'lemon'\n\\end{enumerate*}\n",
            "text/plain": [
              "[1] \"pear\"   \"apple\"  \"orange\" \"mango\"  \"lemon\" "
            ]
          },
          "metadata": {}
        }
      ]
    },
    {
      "cell_type": "markdown",
      "source": [
        "## Repeat Vectors\n",
        "* To repeat vectors, use the rep() function:"
      ],
      "metadata": {
        "id": "QSEAHsbPz4wT"
      }
    },
    {
      "cell_type": "code",
      "source": [
        "a <- rep(c(1,2,3,4),each= 3)\n",
        "a"
      ],
      "metadata": {
        "id": "zF8jrUOHIzm7",
        "colab": {
          "base_uri": "https://localhost:8080/",
          "height": 34
        },
        "outputId": "9352429a-af43-4295-d388-988ce702a2d7"
      },
      "execution_count": 14,
      "outputs": [
        {
          "output_type": "display_data",
          "data": {
            "text/html": [
              "<style>\n",
              ".list-inline {list-style: none; margin:0; padding: 0}\n",
              ".list-inline>li {display: inline-block}\n",
              ".list-inline>li:not(:last-child)::after {content: \"\\00b7\"; padding: 0 .5ex}\n",
              "</style>\n",
              "<ol class=list-inline><li>1</li><li>1</li><li>1</li><li>2</li><li>2</li><li>2</li><li>3</li><li>3</li><li>3</li><li>4</li><li>4</li><li>4</li></ol>\n"
            ],
            "text/markdown": "1. 1\n2. 1\n3. 1\n4. 2\n5. 2\n6. 2\n7. 3\n8. 3\n9. 3\n10. 4\n11. 4\n12. 4\n\n\n",
            "text/latex": "\\begin{enumerate*}\n\\item 1\n\\item 1\n\\item 1\n\\item 2\n\\item 2\n\\item 2\n\\item 3\n\\item 3\n\\item 3\n\\item 4\n\\item 4\n\\item 4\n\\end{enumerate*}\n",
            "text/plain": [
              " [1] 1 1 1 2 2 2 3 3 3 4 4 4"
            ]
          },
          "metadata": {}
        }
      ]
    },
    {
      "cell_type": "code",
      "source": [
        "a1 <- rep(c(1,2,3), times = 3)\n",
        "a1"
      ],
      "metadata": {
        "colab": {
          "base_uri": "https://localhost:8080/",
          "height": 34
        },
        "id": "YzFw9UTK0Hx6",
        "outputId": "10ae876e-c284-4d15-b26c-cf69964ffbd6"
      },
      "execution_count": 16,
      "outputs": [
        {
          "output_type": "display_data",
          "data": {
            "text/html": [
              "<style>\n",
              ".list-inline {list-style: none; margin:0; padding: 0}\n",
              ".list-inline>li {display: inline-block}\n",
              ".list-inline>li:not(:last-child)::after {content: \"\\00b7\"; padding: 0 .5ex}\n",
              "</style>\n",
              "<ol class=list-inline><li>1</li><li>2</li><li>3</li><li>1</li><li>2</li><li>3</li><li>1</li><li>2</li><li>3</li></ol>\n"
            ],
            "text/markdown": "1. 1\n2. 2\n3. 3\n4. 1\n5. 2\n6. 3\n7. 1\n8. 2\n9. 3\n\n\n",
            "text/latex": "\\begin{enumerate*}\n\\item 1\n\\item 2\n\\item 3\n\\item 1\n\\item 2\n\\item 3\n\\item 1\n\\item 2\n\\item 3\n\\end{enumerate*}\n",
            "text/plain": [
              "[1] 1 2 3 1 2 3 1 2 3"
            ]
          },
          "metadata": {}
        }
      ]
    },
    {
      "cell_type": "code",
      "source": [
        "a2 <- rep(c(1,2,3), times = c(4,3,2))\n",
        "a2"
      ],
      "metadata": {
        "colab": {
          "base_uri": "https://localhost:8080/",
          "height": 34
        },
        "id": "CqVo_5Jr0aLe",
        "outputId": "7cb79b77-d72c-4484-b249-e8880ed90404"
      },
      "execution_count": 17,
      "outputs": [
        {
          "output_type": "display_data",
          "data": {
            "text/html": [
              "<style>\n",
              ".list-inline {list-style: none; margin:0; padding: 0}\n",
              ".list-inline>li {display: inline-block}\n",
              ".list-inline>li:not(:last-child)::after {content: \"\\00b7\"; padding: 0 .5ex}\n",
              "</style>\n",
              "<ol class=list-inline><li>1</li><li>1</li><li>1</li><li>1</li><li>2</li><li>2</li><li>2</li><li>3</li><li>3</li></ol>\n"
            ],
            "text/markdown": "1. 1\n2. 1\n3. 1\n4. 1\n5. 2\n6. 2\n7. 2\n8. 3\n9. 3\n\n\n",
            "text/latex": "\\begin{enumerate*}\n\\item 1\n\\item 1\n\\item 1\n\\item 1\n\\item 2\n\\item 2\n\\item 2\n\\item 3\n\\item 3\n\\end{enumerate*}\n",
            "text/plain": [
              "[1] 1 1 1 1 2 2 2 3 3"
            ]
          },
          "metadata": {}
        }
      ]
    },
    {
      "cell_type": "code",
      "source": [
        "# To make bigger or smaller steps in a sequence, use the seq() function:\n",
        "# Note: The seq() function has three parameters: from is where the sequence starts, to is where the sequence stops, and by is the interval of the sequence.\n",
        "\n",
        "numbers <- seq(from = 0, to = 100, by = 20)\n",
        "numbers"
      ],
      "metadata": {
        "colab": {
          "base_uri": "https://localhost:8080/",
          "height": 34
        },
        "id": "08TP5U3t0zcv",
        "outputId": "9695b17d-a32b-4fd5-fa66-67be3ec4857d"
      },
      "execution_count": 26,
      "outputs": [
        {
          "output_type": "display_data",
          "data": {
            "text/html": [
              "<style>\n",
              ".list-inline {list-style: none; margin:0; padding: 0}\n",
              ".list-inline>li {display: inline-block}\n",
              ".list-inline>li:not(:last-child)::after {content: \"\\00b7\"; padding: 0 .5ex}\n",
              "</style>\n",
              "<ol class=list-inline><li>0</li><li>20</li><li>40</li><li>60</li><li>80</li><li>100</li></ol>\n"
            ],
            "text/markdown": "1. 0\n2. 20\n3. 40\n4. 60\n5. 80\n6. 100\n\n\n",
            "text/latex": "\\begin{enumerate*}\n\\item 0\n\\item 20\n\\item 40\n\\item 60\n\\item 80\n\\item 100\n\\end{enumerate*}\n",
            "text/plain": [
              "[1]   0  20  40  60  80 100"
            ]
          },
          "metadata": {}
        }
      ]
    },
    {
      "cell_type": "markdown",
      "source": [
        "# Lists\n",
        "* A list in R can contain many different data types inside it. A list is a collection of data which is ordered and changeable.\n",
        "\n",
        "* To create a list, use the list() function:"
      ],
      "metadata": {
        "id": "i2_wUcjx29Z9"
      }
    },
    {
      "cell_type": "code",
      "source": [
        "list1 <- list(\"apple\", \"banana\")\n",
        "list1"
      ],
      "metadata": {
        "colab": {
          "base_uri": "https://localhost:8080/",
          "height": 80
        },
        "id": "dOwMuD_61qEb",
        "outputId": "1d4b5a26-afe8-492e-b66a-5cc216e8ecba"
      },
      "execution_count": 27,
      "outputs": [
        {
          "output_type": "display_data",
          "data": {
            "text/html": [
              "<ol>\n",
              "\t<li>'apple'</li>\n",
              "\t<li>'banana'</li>\n",
              "</ol>\n"
            ],
            "text/markdown": "1. 'apple'\n2. 'banana'\n\n\n",
            "text/latex": "\\begin{enumerate}\n\\item 'apple'\n\\item 'banana'\n\\end{enumerate}\n",
            "text/plain": [
              "[[1]]\n",
              "[1] \"apple\"\n",
              "\n",
              "[[2]]\n",
              "[1] \"banana\"\n"
            ]
          },
          "metadata": {}
        }
      ]
    },
    {
      "cell_type": "markdown",
      "source": [
        "## Access Lists\n",
        "* You can access the list items by referring to its index number, inside brackets. The first item has index 1, the second item has index 2, and so on:"
      ],
      "metadata": {
        "id": "ilUTM6Kj3aB5"
      }
    },
    {
      "cell_type": "code",
      "source": [
        "list1 <- list(\"apple\", \"banana\")\n",
        "list1[1]"
      ],
      "metadata": {
        "colab": {
          "base_uri": "https://localhost:8080/",
          "height": 62
        },
        "id": "SzIPy42l3MUY",
        "outputId": "da5503b2-0aa7-47b3-ac88-d4833fc13448"
      },
      "execution_count": 29,
      "outputs": [
        {
          "output_type": "display_data",
          "data": {
            "text/html": [
              "<ol>\n",
              "\t<li>'apple'</li>\n",
              "</ol>\n"
            ],
            "text/markdown": "1. 'apple'\n\n\n",
            "text/latex": "\\begin{enumerate}\n\\item 'apple'\n\\end{enumerate}\n",
            "text/plain": [
              "[[1]]\n",
              "[1] \"apple\"\n"
            ]
          },
          "metadata": {}
        }
      ]
    },
    {
      "cell_type": "markdown",
      "source": [
        "### Change Item Value\n",
        "* To change the value of a specific item, refer to the index number:"
      ],
      "metadata": {
        "id": "BqcJJ4Zg3uOa"
      }
    },
    {
      "cell_type": "code",
      "source": [
        "list1 <- list(\"apple\", \"banana\")\n",
        "list1[1] <- \"banana\"\n",
        "list1"
      ],
      "metadata": {
        "colab": {
          "base_uri": "https://localhost:8080/",
          "height": 80
        },
        "id": "A3IfzcRs3i46",
        "outputId": "7b43dae3-c176-4cc5-8f5d-36ba221635aa"
      },
      "execution_count": 31,
      "outputs": [
        {
          "output_type": "display_data",
          "data": {
            "text/html": [
              "<ol>\n",
              "\t<li>'banana'</li>\n",
              "\t<li>'banana'</li>\n",
              "</ol>\n"
            ],
            "text/markdown": "1. 'banana'\n2. 'banana'\n\n\n",
            "text/latex": "\\begin{enumerate}\n\\item 'banana'\n\\item 'banana'\n\\end{enumerate}\n",
            "text/plain": [
              "[[1]]\n",
              "[1] \"banana\"\n",
              "\n",
              "[[2]]\n",
              "[1] \"banana\"\n"
            ]
          },
          "metadata": {}
        }
      ]
    },
    {
      "cell_type": "code",
      "source": [
        "list1 <- list(\"apple\", \"banana\")\n",
        "list2 <- length(list1)\n",
        "list2"
      ],
      "metadata": {
        "colab": {
          "base_uri": "https://localhost:8080/",
          "height": 34
        },
        "id": "-o5WzXpd3i8T",
        "outputId": "373c1735-6b82-40c5-a524-85f4f8cfcc84"
      },
      "execution_count": 34,
      "outputs": [
        {
          "output_type": "display_data",
          "data": {
            "text/html": [
              "2"
            ],
            "text/markdown": "2",
            "text/latex": "2",
            "text/plain": [
              "[1] 2"
            ]
          },
          "metadata": {}
        }
      ]
    },
    {
      "cell_type": "code",
      "source": [],
      "metadata": {
        "id": "RmEJ0tV53jBs"
      },
      "execution_count": null,
      "outputs": []
    },
    {
      "cell_type": "code",
      "source": [],
      "metadata": {
        "id": "pP1XPHlr3jEK"
      },
      "execution_count": null,
      "outputs": []
    },
    {
      "cell_type": "code",
      "source": [],
      "metadata": {
        "id": "AVXfZnBX3jGz"
      },
      "execution_count": null,
      "outputs": []
    },
    {
      "cell_type": "code",
      "source": [],
      "metadata": {
        "id": "DlfoBl3j3jKH"
      },
      "execution_count": null,
      "outputs": []
    }
  ]
}