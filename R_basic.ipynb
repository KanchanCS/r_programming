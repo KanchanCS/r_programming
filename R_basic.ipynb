{
  "cells": [
    {
      "cell_type": "markdown",
      "metadata": {
        "id": "view-in-github",
        "colab_type": "text"
      },
      "source": [
        "<a href=\"https://colab.research.google.com/github/KanchanCS/r_programming/blob/main/R_basic.ipynb\" target=\"_parent\"><img src=\"https://colab.research.google.com/assets/colab-badge.svg\" alt=\"Open In Colab\"/></a>"
      ]
    },
    {
      "cell_type": "markdown",
      "metadata": {
        "id": "gnI9uFh2pNze"
      },
      "source": [
        "### R is a programming language.\n",
        "\n",
        "### R is often used for statistical computing and graphical presentation to analyze and visualize data.\n",
        "## what is R\n",
        "### R is a popular programming language used for statistical computing and graphical presentation.\n",
        "\n",
        "### Its most common use is to analyze and visualize data."
      ]
    },
    {
      "cell_type": "markdown",
      "metadata": {
        "id": "cmG41lthrCLf"
      },
      "source": [
        "## Why Use R?\n",
        "* It is a great resource for data analysis, data visualization, data science and machine learning\n",
        "* It provides many statistical techniques (such as statistical tests, classification, clustering and data reduction)\n",
        "* It is easy to draw graphs in R, like pie charts, histograms, box plot, scatter plot, etc++\n",
        "* It works on different platforms (Windows, Mac, Linux)\n",
        "* It is open-source and free\n",
        "* It has a large community support\n",
        "* It has many packages (libraries of functions) that can be used to solve different problems"
      ]
    },
    {
      "cell_type": "code",
      "execution_count": null,
      "metadata": {
        "colab": {
          "base_uri": "https://localhost:8080/",
          "height": 34
        },
        "id": "b7C6S65KoHpg",
        "outputId": "fa56d8dc-6757-414f-9486-4e60600591a4"
      },
      "outputs": [
        {
          "data": {
            "text/html": [
              "'Hello World!'"
            ],
            "text/latex": "'Hello World!'",
            "text/markdown": "'Hello World!'",
            "text/plain": [
              "[1] \"Hello World!\""
            ]
          },
          "metadata": {},
          "output_type": "display_data"
        }
      ],
      "source": [
        "\"Hello World!\""
      ]
    },
    {
      "cell_type": "code",
      "execution_count": null,
      "metadata": {
        "colab": {
          "base_uri": "https://localhost:8080/",
          "height": 34
        },
        "id": "6Pl1Nj-foNwv",
        "outputId": "51de12a4-fca6-46f2-ca5a-35cd3c060005"
      },
      "outputs": [
        {
          "data": {
            "text/html": [
              "10"
            ],
            "text/latex": "10",
            "text/markdown": "10",
            "text/plain": [
              "[1] 10"
            ]
          },
          "metadata": {},
          "output_type": "display_data"
        }
      ],
      "source": [
        "5+5"
      ]
    },
    {
      "cell_type": "code",
      "execution_count": null,
      "metadata": {
        "colab": {
          "base_uri": "https://localhost:8080/",
          "height": 52
        },
        "id": "r-zCnXOArwsa",
        "outputId": "87d6fc25-c552-43ee-d844-bce65d319553"
      },
      "outputs": [
        {
          "data": {
            "text/html": [
              "5"
            ],
            "text/latex": "5",
            "text/markdown": "5",
            "text/plain": [
              "[1] 5"
            ]
          },
          "metadata": {},
          "output_type": "display_data"
        },
        {
          "data": {
            "text/html": [
              "2"
            ],
            "text/latex": "2",
            "text/markdown": "2",
            "text/plain": [
              "[1] 2"
            ]
          },
          "metadata": {},
          "output_type": "display_data"
        }
      ],
      "source": [
        "5\n",
        "2"
      ]
    },
    {
      "cell_type": "code",
      "execution_count": null,
      "metadata": {
        "colab": {
          "base_uri": "https://localhost:8080/"
        },
        "id": "Hp0v5E_trw8T",
        "outputId": "78d13181-5dd7-448d-f931-cd6acf27248f"
      },
      "outputs": [
        {
          "name": "stdout",
          "output_type": "stream",
          "text": [
            "[1] \"hello\"\n"
          ]
        }
      ],
      "source": [
        "print(\"hello\")"
      ]
    },
    {
      "cell_type": "code",
      "execution_count": null,
      "metadata": {
        "colab": {
          "base_uri": "https://localhost:8080/"
        },
        "id": "ooXyQTAXrw_5",
        "outputId": "5f407ee9-21e0-4477-fed6-f5786c66ffa8"
      },
      "outputs": [
        {
          "name": "stdout",
          "output_type": "stream",
          "text": [
            "[1] 1\n",
            "[1] 2\n",
            "[1] 3\n",
            "[1] 4\n",
            "[1] 5\n",
            "[1] 6\n",
            "[1] 7\n",
            "[1] 8\n",
            "[1] 9\n",
            "[1] 10\n"
          ]
        }
      ],
      "source": [
        "for (i in 1:10)\n",
        "{\n",
        "  print(i)\n",
        "}"
      ]
    },
    {
      "cell_type": "code",
      "execution_count": null,
      "metadata": {
        "colab": {
          "base_uri": "https://localhost:8080/",
          "height": 52
        },
        "id": "Ccb3C7dzY0H1",
        "outputId": "2114158f-c278-496c-9aed-8822dc82742e"
      },
      "outputs": [
        {
          "data": {
            "text/html": [
              "'jon'"
            ],
            "text/latex": "'jon'",
            "text/markdown": "'jon'",
            "text/plain": [
              "[1] \"jon\""
            ]
          },
          "metadata": {},
          "output_type": "display_data"
        },
        {
          "data": {
            "text/html": [
              "24"
            ],
            "text/latex": "24",
            "text/markdown": "24",
            "text/plain": [
              "[1] 24"
            ]
          },
          "metadata": {},
          "output_type": "display_data"
        }
      ],
      "source": [
        "name <- \"jon\"\n",
        "age <- 24\n",
        "name\n",
        "age"
      ]
    },
    {
      "cell_type": "markdown",
      "metadata": {
        "id": "_ZLxAc0na2Ja"
      },
      "source": [
        "## Concatenate Elements\n",
        "### You can also concatenate, or join, two or more elements, by using the paste() function.\n",
        "\n",
        "### To combine both text and a variable, R uses comma (,):"
      ]
    },
    {
      "cell_type": "code",
      "execution_count": null,
      "metadata": {
        "colab": {
          "base_uri": "https://localhost:8080/",
          "height": 34
        },
        "id": "NttYFjkPY0Vd",
        "outputId": "206e1829-cf64-4790-df47-a7164d056c29"
      },
      "outputs": [
        {
          "data": {
            "text/html": [
              "'R is awesome'"
            ],
            "text/latex": "'R is awesome'",
            "text/markdown": "'R is awesome'",
            "text/plain": [
              "[1] \"R is awesome\""
            ]
          },
          "metadata": {},
          "output_type": "display_data"
        }
      ],
      "source": [
        "text = \"awesome\"\n",
        "paste(\"R is\", text)"
      ]
    },
    {
      "cell_type": "code",
      "execution_count": null,
      "metadata": {
        "colab": {
          "base_uri": "https://localhost:8080/",
          "height": 34
        },
        "id": "1adNvpIRY0X1",
        "outputId": "96ecaca1-f5a1-4d5c-fd31-2ef022901132"
      },
      "outputs": [
        {
          "data": {
            "text/html": [
              "'Hello I AM Programmer'"
            ],
            "text/latex": "'Hello I AM Programmer'",
            "text/markdown": "'Hello I AM Programmer'",
            "text/plain": [
              "[1] \"Hello I AM Programmer\""
            ]
          },
          "metadata": {},
          "output_type": "display_data"
        }
      ],
      "source": [
        "text1 <- \"Hello I AM\"\n",
        "text2 <- \"Programmer\"\n",
        "paste (text1, text2)"
      ]
    },
    {
      "cell_type": "markdown",
      "metadata": {
        "id": "KEwUeUxvd5am"
      },
      "source": [
        "### For numbers, the + character works as a mathematical operator:"
      ]
    },
    {
      "cell_type": "code",
      "execution_count": null,
      "metadata": {
        "colab": {
          "base_uri": "https://localhost:8080/",
          "height": 34
        },
        "id": "ohTfmCLHY0aN",
        "outputId": "b65b1d1c-0593-4e0c-95e3-e8c5391ee48e"
      },
      "outputs": [
        {
          "data": {
            "text/html": [
              "25"
            ],
            "text/latex": "25",
            "text/markdown": "25",
            "text/plain": [
              "[1] 25"
            ]
          },
          "metadata": {},
          "output_type": "display_data"
        }
      ],
      "source": [
        "name1 <- 12\n",
        "name2 <- 13\n",
        "name1 + name2"
      ]
    },
    {
      "cell_type": "markdown",
      "metadata": {
        "id": "Ct-u2cMI7Sno"
      },
      "source": [
        "## Variable Names\n",
        "### A variable can have a short name (like x and y) or a more descriptive name (age, carname, total_volume). Rules for R variables are:\n",
        "* A variable name must start with a letter and can be a combination of letters, digits, period(.)\n",
        "and underscore(_). If it starts with period(.), it cannot be followed by a digit.\n",
        "* A variable name cannot start with a number or underscore (_)\n",
        "* Variable names are case-sensitive (age, Age and AGE are three different variables)\n",
        "* Reserved words cannot be used as variables (TRUE, FALSE, NULL, if...)"
      ]
    },
    {
      "cell_type": "code",
      "execution_count": null,
      "metadata": {
        "id": "D8bQ_zyNY0ds"
      },
      "outputs": [],
      "source": [
        "myvar <- \"jon\"\n",
        "my_var <- \"jon\"\n",
        "myVAR <- \"jon\"\n",
        "MYVAR <- \"jon\"\n",
        "myvar2 <- \"jon\"\n",
        ".myvar <- \"jon\""
      ]
    },
    {
      "cell_type": "code",
      "execution_count": null,
      "metadata": {
        "colab": {
          "base_uri": "https://localhost:8080/",
          "height": 130
        },
        "id": "YHG1ij5Y8GYQ",
        "outputId": "b5c3ffb6-9b7b-484a-88ff-1d08389cfe0e"
      },
      "outputs": [
        {
          "ename": "ERROR",
          "evalue": "ignored",
          "output_type": "error",
          "traceback": [
            "Error in parse(text = x, srcfile = src): <text>:1:2: unexpected symbol\n1: 1myvar\n     ^\nTraceback:\n"
          ]
        }
      ],
      "source": [
        "1myvar <- \"jon\"\n",
        "_myvar <- \"jon\"\n",
        "my-var <- \"jon\""
      ]
    },
    {
      "cell_type": "markdown",
      "metadata": {
        "id": "2zTxfj_4XXcN"
      },
      "source": [
        "## Assignment of Variables"
      ]
    },
    {
      "cell_type": "code",
      "execution_count": null,
      "metadata": {
        "colab": {
          "base_uri": "https://localhost:8080/",
          "height": 104
        },
        "id": "5gKrlilK8Gm8",
        "outputId": "0d7fc41b-e546-4416-bbbe-974eaad173ac"
      },
      "outputs": [
        {
          "data": {
            "text/html": [
              "10"
            ],
            "text/latex": "10",
            "text/markdown": "10",
            "text/plain": [
              "[1] 10"
            ]
          },
          "metadata": {},
          "output_type": "display_data"
        },
        {
          "data": {
            "text/html": [
              "20"
            ],
            "text/latex": "20",
            "text/markdown": "20",
            "text/plain": [
              "[1] 20"
            ]
          },
          "metadata": {},
          "output_type": "display_data"
        },
        {
          "name": "stdout",
          "output_type": "stream",
          "text": [
            "Add variable:\n",
            " 10   20 \n",
            " 30"
          ]
        }
      ],
      "source": [
        "var <- 10\n",
        "var1 = 20\n",
        "var3 <- 30\n",
        "var\n",
        "var1\n",
        "cat(\"Add variable:\\n\",var,\" \",var1,\"\\n\", var3)"
      ]
    },
    {
      "cell_type": "markdown",
      "metadata": {
        "id": "qDgtNEvaZHgL"
      },
      "source": [
        "## Data Types\n",
        "* In programming, data type is an important concept.\n",
        "\n",
        "* Variables can store data of different types, and different types can do different things.\n",
        "\n",
        "* In R, variables do not need to be declared with any particular type, and can even change type after they have been set:\n",
        "\n"
      ]
    },
    {
      "cell_type": "markdown",
      "metadata": {
        "id": "IvTU7wrcjdCM"
      },
      "source": [
        "### Basic Data Types\n",
        "##### Basic data types in R can be divided into the following types:\n",
        "\n",
        "* numeric - (10.5, 55, 787)\n",
        "* integer - (1L, 55L, 100L, where the letter \"L\" declares this as an integer)\n",
        "* complex - (9 + 3i, where \"i\" is the imaginary part)\n",
        "* character (a.k.a. string) - (\"k\", \"R is exciting\", \"FALSE\", \"11.5\")\n",
        "* logical (a.k.a. boolean) - (TRUE or FALSE)"
      ]
    },
    {
      "cell_type": "code",
      "execution_count": null,
      "metadata": {
        "colab": {
          "base_uri": "https://localhost:8080/",
          "height": 52
        },
        "id": "2D8KceE78GpW",
        "outputId": "6fc9ff33-9f4b-4a58-ce51-235af5a9d481"
      },
      "outputs": [
        {
          "data": {
            "text/html": [
              "'numeric'"
            ],
            "text/latex": "'numeric'",
            "text/markdown": "'numeric'",
            "text/plain": [
              "[1] \"numeric\""
            ]
          },
          "metadata": {},
          "output_type": "display_data"
        },
        {
          "data": {
            "text/html": [
              "'double'"
            ],
            "text/latex": "'double'",
            "text/markdown": "'double'",
            "text/plain": [
              "[1] \"double\""
            ]
          },
          "metadata": {},
          "output_type": "display_data"
        }
      ],
      "source": [
        "num <- 10\n",
        "class(num)\n",
        "typeof(num)"
      ]
    },
    {
      "cell_type": "code",
      "execution_count": null,
      "metadata": {
        "colab": {
          "base_uri": "https://localhost:8080/",
          "height": 34
        },
        "id": "2k8FIFrC8Grm",
        "outputId": "69d92d72-d9db-4443-879e-0b46228fe594"
      },
      "outputs": [
        {
          "data": {
            "text/html": [
              "'integer'"
            ],
            "text/latex": "'integer'",
            "text/markdown": "'integer'",
            "text/plain": [
              "[1] \"integer\""
            ]
          },
          "metadata": {},
          "output_type": "display_data"
        }
      ],
      "source": [
        "int <- 15L\n",
        "class(int)"
      ]
    },
    {
      "cell_type": "code",
      "execution_count": null,
      "metadata": {
        "colab": {
          "base_uri": "https://localhost:8080/",
          "height": 52
        },
        "id": "ZJK7QWg38Gtk",
        "outputId": "fd5dfc63-3a04-4a92-982b-312d58f9aa40"
      },
      "outputs": [
        {
          "data": {
            "text/html": [
              "'integer'"
            ],
            "text/latex": "'integer'",
            "text/markdown": "'integer'",
            "text/plain": [
              "[1] \"integer\""
            ]
          },
          "metadata": {},
          "output_type": "display_data"
        },
        {
          "data": {
            "text/html": [
              "'integer'"
            ],
            "text/latex": "'integer'",
            "text/markdown": "'integer'",
            "text/plain": [
              "[1] \"integer\""
            ]
          },
          "metadata": {},
          "output_type": "display_data"
        }
      ],
      "source": [
        "int <- 15\n",
        "class(int)\n",
        "typeof(int)"
      ]
    },
    {
      "cell_type": "code",
      "execution_count": null,
      "metadata": {
        "colab": {
          "base_uri": "https://localhost:8080/",
          "height": 34
        },
        "id": "buMPtOT78Gvl",
        "outputId": "c91b611b-eb80-41d3-ef25-2064738814a5"
      },
      "outputs": [
        {
          "data": {
            "text/html": [
              "'complex'"
            ],
            "text/latex": "'complex'",
            "text/markdown": "'complex'",
            "text/plain": [
              "[1] \"complex\""
            ]
          },
          "metadata": {},
          "output_type": "display_data"
        }
      ],
      "source": [
        "complex_1 <-  2+3i\n",
        "class(complex_1)"
      ]
    },
    {
      "cell_type": "code",
      "execution_count": null,
      "metadata": {
        "colab": {
          "base_uri": "https://localhost:8080/",
          "height": 34
        },
        "id": "d0xjmeX88Gy9",
        "outputId": "2b35c1d4-ae8a-4e86-f7b0-bf0ebfd253ea"
      },
      "outputs": [
        {
          "data": {
            "text/html": [
              "'character'"
            ],
            "text/latex": "'character'",
            "text/markdown": "'character'",
            "text/plain": [
              "[1] \"character\""
            ]
          },
          "metadata": {},
          "output_type": "display_data"
        }
      ],
      "source": [
        "char <- \"num\"\n",
        "class(char)"
      ]
    },
    {
      "cell_type": "code",
      "execution_count": null,
      "metadata": {
        "colab": {
          "base_uri": "https://localhost:8080/",
          "height": 34
        },
        "id": "A3KEZXLI1X6k",
        "outputId": "f9f7f1dd-dcee-4d29-c75d-8a51cf5265e4"
      },
      "outputs": [
        {
          "data": {
            "text/html": [
              "'logical'"
            ],
            "text/latex": "'logical'",
            "text/markdown": "'logical'",
            "text/plain": [
              "[1] \"logical\""
            ]
          },
          "metadata": {},
          "output_type": "display_data"
        }
      ],
      "source": [
        "a <- TRUE\n",
        "class(a)"
      ]
    },
    {
      "cell_type": "markdown",
      "metadata": {
        "id": "AM2q_oIm2avG"
      },
      "source": [
        "## Converting Data type in R"
      ]
    },
    {
      "cell_type": "code",
      "execution_count": null,
      "metadata": {
        "colab": {
          "base_uri": "https://localhost:8080/",
          "height": 173
        },
        "id": "JlH0kMKy1X9c",
        "outputId": "d23652f1-7542-41c4-9a13-cade20558be6"
      },
      "outputs": [
        {
          "data": {
            "text/html": [
              "15"
            ],
            "text/latex": "15",
            "text/markdown": "15",
            "text/plain": [
              "[1] 15"
            ]
          },
          "metadata": {},
          "output_type": "display_data"
        },
        {
          "name": "stderr",
          "output_type": "stream",
          "text": [
            "Warning message in eval(expr, envir, enclos):\n",
            "“imaginary parts discarded in coercion”\n"
          ]
        },
        {
          "data": {
            "text/html": [
              "27"
            ],
            "text/latex": "27",
            "text/markdown": "27",
            "text/plain": [
              "[1] 27"
            ]
          },
          "metadata": {},
          "output_type": "display_data"
        },
        {
          "data": {
            "text/html": [
              "1"
            ],
            "text/latex": "1",
            "text/markdown": "1",
            "text/plain": [
              "[1] 1"
            ]
          },
          "metadata": {},
          "output_type": "display_data"
        },
        {
          "name": "stderr",
          "output_type": "stream",
          "text": [
            "Warning message in eval(expr, envir, enclos):\n",
            "“NAs introduced by coercion”\n"
          ]
        },
        {
          "data": {
            "text/html": [
              "&lt;NA&gt;"
            ],
            "text/latex": "<NA>",
            "text/markdown": "&lt;NA&gt;",
            "text/plain": [
              "[1] NA"
            ]
          },
          "metadata": {},
          "output_type": "display_data"
        },
        {
          "data": {
            "text/html": [
              "12344"
            ],
            "text/latex": "12344",
            "text/markdown": "12344",
            "text/plain": [
              "[1] 12344"
            ]
          },
          "metadata": {},
          "output_type": "display_data"
        }
      ],
      "source": [
        "num <- as.numeric(15L)\n",
        "num\n",
        "num1 <- as.numeric(27-55i)\n",
        "num1\n",
        "num2 <- as.numeric(TRUE)\n",
        "num2\n",
        "num3 <- as.numeric(\"mmmjklm\")\n",
        "num3\n",
        "num4 <- as.numeric(\"12344\")\n",
        "num4"
      ]
    },
    {
      "cell_type": "code",
      "execution_count": null,
      "metadata": {
        "colab": {
          "base_uri": "https://localhost:8080/",
          "height": 173
        },
        "id": "kqycsc4L1YAN",
        "outputId": "e30c6307-b8c0-435d-a003-2651311edf77"
      },
      "outputs": [
        {
          "data": {
            "text/html": [
              "TRUE"
            ],
            "text/latex": "TRUE",
            "text/markdown": "TRUE",
            "text/plain": [
              "[1] TRUE"
            ]
          },
          "metadata": {},
          "output_type": "display_data"
        },
        {
          "name": "stderr",
          "output_type": "stream",
          "text": [
            "Warning message in eval(expr, envir, enclos):\n",
            "“imaginary parts discarded in coercion”\n"
          ]
        },
        {
          "data": {
            "text/html": [
              "27"
            ],
            "text/latex": "27",
            "text/markdown": "27",
            "text/plain": [
              "[1] 27"
            ]
          },
          "metadata": {},
          "output_type": "display_data"
        },
        {
          "data": {
            "text/html": [
              "1"
            ],
            "text/latex": "1",
            "text/markdown": "1",
            "text/plain": [
              "[1] 1"
            ]
          },
          "metadata": {},
          "output_type": "display_data"
        },
        {
          "name": "stderr",
          "output_type": "stream",
          "text": [
            "Warning message in eval(expr, envir, enclos):\n",
            "“NAs introduced by coercion”\n"
          ]
        },
        {
          "data": {
            "text/html": [
              "&lt;NA&gt;"
            ],
            "text/latex": "<NA>",
            "text/markdown": "&lt;NA&gt;",
            "text/plain": [
              "[1] NA"
            ]
          },
          "metadata": {},
          "output_type": "display_data"
        },
        {
          "data": {
            "text/html": [
              "12344"
            ],
            "text/latex": "12344",
            "text/markdown": "12344",
            "text/plain": [
              "[1] 12344"
            ]
          },
          "metadata": {},
          "output_type": "display_data"
        }
      ],
      "source": [
        "int <- as.integer(15L)\n",
        "int\n",
        "int1 <- as.integer(27-55i)\n",
        "int1\n",
        "int2 <- as.integer(TRUE)\n",
        "int2\n",
        "int3 <- as.integer(\"mmmjklm\")\n",
        "int3\n",
        "int4 <- as.integer(\"12344\")\n",
        "int4"
      ]
    },
    {
      "cell_type": "code",
      "execution_count": null,
      "metadata": {
        "colab": {
          "base_uri": "https://localhost:8080/",
          "height": 104
        },
        "id": "UX-TY_g91YCk",
        "outputId": "08435df5-6659-41a4-e029-eb3af34a6584"
      },
      "outputs": [
        {
          "data": {
            "text/html": [
              "TRUE"
            ],
            "text/latex": "TRUE",
            "text/markdown": "TRUE",
            "text/plain": [
              "[1] TRUE"
            ]
          },
          "metadata": {},
          "output_type": "display_data"
        },
        {
          "data": {
            "text/html": [
              "TRUE"
            ],
            "text/latex": "TRUE",
            "text/markdown": "TRUE",
            "text/plain": [
              "[1] TRUE"
            ]
          },
          "metadata": {},
          "output_type": "display_data"
        },
        {
          "data": {
            "text/html": [
              "TRUE"
            ],
            "text/latex": "TRUE",
            "text/markdown": "TRUE",
            "text/plain": [
              "[1] TRUE"
            ]
          },
          "metadata": {},
          "output_type": "display_data"
        },
        {
          "data": {
            "text/html": [
              "&lt;NA&gt;"
            ],
            "text/latex": "<NA>",
            "text/markdown": "&lt;NA&gt;",
            "text/plain": [
              "[1] NA"
            ]
          },
          "metadata": {},
          "output_type": "display_data"
        },
        {
          "data": {
            "text/html": [
              "&lt;NA&gt;"
            ],
            "text/latex": "<NA>",
            "text/markdown": "&lt;NA&gt;",
            "text/plain": [
              "[1] NA"
            ]
          },
          "metadata": {},
          "output_type": "display_data"
        }
      ],
      "source": [
        "log <- as.logical(15L)\n",
        "log\n",
        "log1 <- as.logical(15-44i)\n",
        "log1\n",
        "log2 <- as.logical(TRUE)\n",
        "log2\n",
        "log3 <- as.logical(\"ghvghvhgv\")\n",
        "log3\n",
        "log4 <- as.logical(\"45555\")\n",
        "log4"
      ]
    },
    {
      "cell_type": "markdown",
      "metadata": {
        "id": "4kd9BAzS9H1m"
      },
      "source": [
        "# Built-in Math Functions\n",
        "* the min() and max() functions can be used to find the lowest or highest number in a set"
      ]
    },
    {
      "cell_type": "code",
      "execution_count": 2,
      "metadata": {
        "colab": {
          "base_uri": "https://localhost:8080/",
          "height": 52
        },
        "id": "uO2LP_aW1YFY",
        "outputId": "9bff781b-e326-4446-b2f2-6f2b1124fb3f"
      },
      "outputs": [
        {
          "output_type": "display_data",
          "data": {
            "text/html": [
              "15"
            ],
            "text/markdown": "15",
            "text/latex": "15",
            "text/plain": [
              "[1] 15"
            ]
          },
          "metadata": {}
        },
        {
          "output_type": "display_data",
          "data": {
            "text/html": [
              "5"
            ],
            "text/markdown": "5",
            "text/latex": "5",
            "text/plain": [
              "[1] 5"
            ]
          },
          "metadata": {}
        }
      ],
      "source": [
        "max(5, 10, 15)\n",
        "min(5, 10, 15)"
      ]
    },
    {
      "cell_type": "markdown",
      "source": [
        "# sqrt()\n",
        "* The sqrt() function returns the square root of a number:"
      ],
      "metadata": {
        "id": "uih8mOu3diS7"
      }
    },
    {
      "cell_type": "code",
      "execution_count": 3,
      "metadata": {
        "id": "Ty5RNZDf1YHN",
        "colab": {
          "base_uri": "https://localhost:8080/",
          "height": 34
        },
        "outputId": "bcebcda7-5a0c-46d0-c02a-697287b9e8e2"
      },
      "outputs": [
        {
          "output_type": "display_data",
          "data": {
            "text/html": [
              "4"
            ],
            "text/markdown": "4",
            "text/latex": "4",
            "text/plain": [
              "[1] 4"
            ]
          },
          "metadata": {}
        }
      ],
      "source": [
        "sqrt(16)"
      ]
    },
    {
      "cell_type": "markdown",
      "source": [
        "# abs()\n",
        "* The abs() function returns the absolute (positive) value of a number:"
      ],
      "metadata": {
        "id": "07wY8Clcdvaz"
      }
    },
    {
      "cell_type": "code",
      "execution_count": 4,
      "metadata": {
        "id": "97zLJqW01YL1",
        "colab": {
          "base_uri": "https://localhost:8080/",
          "height": 34
        },
        "outputId": "d1a0edd7-8e03-44c6-e503-69350bf80fbc"
      },
      "outputs": [
        {
          "output_type": "display_data",
          "data": {
            "text/html": [
              "4.7"
            ],
            "text/markdown": "4.7",
            "text/latex": "4.7",
            "text/plain": [
              "[1] 4.7"
            ]
          },
          "metadata": {}
        }
      ],
      "source": [
        "abs(-4.7)"
      ]
    },
    {
      "cell_type": "markdown",
      "source": [
        "# ceiling() and floor()\n",
        "* The ceiling() function rounds a number upwards to its nearest integer, and the floor() function rounds a number downwards to its nearest integer, and returns the result:"
      ],
      "metadata": {
        "id": "0IpH9sdEd461"
      }
    },
    {
      "cell_type": "code",
      "execution_count": 5,
      "metadata": {
        "id": "sdiWDJhy1YON",
        "colab": {
          "base_uri": "https://localhost:8080/",
          "height": 52
        },
        "outputId": "0fdecdde-86f1-4486-a0f3-e203d5e677b9"
      },
      "outputs": [
        {
          "output_type": "display_data",
          "data": {
            "text/html": [
              "2"
            ],
            "text/markdown": "2",
            "text/latex": "2",
            "text/plain": [
              "[1] 2"
            ]
          },
          "metadata": {}
        },
        {
          "output_type": "display_data",
          "data": {
            "text/html": [
              "1"
            ],
            "text/markdown": "1",
            "text/latex": "1",
            "text/plain": [
              "[1] 1"
            ]
          },
          "metadata": {}
        }
      ],
      "source": [
        "ceiling(1.4)\n",
        "\n",
        "floor(1.4)"
      ]
    },
    {
      "cell_type": "markdown",
      "source": [
        "# Booleans (Logical Values)\n",
        "* In programming, you often need to know if an expression is true or false.\n",
        "\n",
        "* You can evaluate any expression in R, and get one of two answers, TRUE or FALSE.\n",
        "\n",
        "* When you compare two values, the expression is evaluated and R returns the logical answer:"
      ],
      "metadata": {
        "id": "qSKPSMf63skH"
      }
    },
    {
      "cell_type": "code",
      "execution_count": 1,
      "metadata": {
        "id": "yh6GdWyu1YRm",
        "colab": {
          "base_uri": "https://localhost:8080/",
          "height": 69
        },
        "outputId": "9c77331c-ef68-4707-fc27-b78ab5ecb210"
      },
      "outputs": [
        {
          "output_type": "display_data",
          "data": {
            "text/html": [
              "TRUE"
            ],
            "text/markdown": "TRUE",
            "text/latex": "TRUE",
            "text/plain": [
              "[1] TRUE"
            ]
          },
          "metadata": {}
        },
        {
          "output_type": "display_data",
          "data": {
            "text/html": [
              "FALSE"
            ],
            "text/markdown": "FALSE",
            "text/latex": "FALSE",
            "text/plain": [
              "[1] FALSE"
            ]
          },
          "metadata": {}
        },
        {
          "output_type": "display_data",
          "data": {
            "text/html": [
              "FALSE"
            ],
            "text/markdown": "FALSE",
            "text/latex": "FALSE",
            "text/plain": [
              "[1] FALSE"
            ]
          },
          "metadata": {}
        }
      ],
      "source": [
        "10 > 9    # TRUE because 10 is greater than 9\n",
        "10 == 9   # FALSE because 10 is not equal to 9\n",
        "10 < 9    # FALSE because 10 is greater than 9"
      ]
    },
    {
      "cell_type": "code",
      "source": [
        "a <- 200\n",
        "b <- 33\n",
        "\n",
        "if (b > a) {\n",
        "  print (\"b is greater than a\")\n",
        "} else {\n",
        "  print(\"b is not greater than a\")\n",
        "}"
      ],
      "metadata": {
        "colab": {
          "base_uri": "https://localhost:8080/"
        },
        "id": "HvO_6zbC3-0w",
        "outputId": "432b217c-b580-4f25-a460-b2a7b6f53bba"
      },
      "execution_count": 2,
      "outputs": [
        {
          "output_type": "stream",
          "name": "stdout",
          "text": [
            "[1] \"b is not greater than a\"\n"
          ]
        }
      ]
    },
    {
      "cell_type": "markdown",
      "source": [
        "# R If ... Else"
      ],
      "metadata": {
        "id": "er7CeuKB79h1"
      }
    },
    {
      "cell_type": "code",
      "source": [
        "a <- 33\n",
        "b <- 200\n",
        "\n",
        "if (b > a) {\n",
        "  print(\"b is greater than a\")\n",
        "}"
      ],
      "metadata": {
        "colab": {
          "base_uri": "https://localhost:8080/"
        },
        "id": "Ry4jP7O83--s",
        "outputId": "7730dfb6-8a77-4305-bc7f-187628dcb8c4"
      },
      "execution_count": 3,
      "outputs": [
        {
          "output_type": "stream",
          "name": "stdout",
          "text": [
            "[1] \"b is greater than a\"\n"
          ]
        }
      ]
    },
    {
      "cell_type": "markdown",
      "source": [
        "# Else If"
      ],
      "metadata": {
        "id": "06E1w8Ka8NKf"
      }
    },
    {
      "cell_type": "code",
      "source": [
        "a <- 33\n",
        "b <- 33\n",
        "\n",
        "if (b > a) {\n",
        "  print(\"b is greater than a\")\n",
        "} else if (a == b) {\n",
        "  print (\"a and b are equal\")\n",
        "}"
      ],
      "metadata": {
        "colab": {
          "base_uri": "https://localhost:8080/"
        },
        "id": "4Imo6RaK3_Bn",
        "outputId": "01fa3483-dc9e-4025-d2c9-61263da3562e"
      },
      "execution_count": 4,
      "outputs": [
        {
          "output_type": "stream",
          "name": "stdout",
          "text": [
            "[1] \"a and b are equal\"\n"
          ]
        }
      ]
    },
    {
      "cell_type": "markdown",
      "source": [
        "# If Else\n",
        "* The else keyword catches anything which isn't caught by the preceding conditions:"
      ],
      "metadata": {
        "id": "vkMs9HEe8lx2"
      }
    },
    {
      "cell_type": "code",
      "source": [
        "a <- 200\n",
        "b <- 33\n",
        "\n",
        "if (b > a) {\n",
        "  print(\"b is greater than a\")\n",
        "} else if (a == b) {\n",
        "  print(\"a and b are equal\")\n",
        "} else {\n",
        "  print(\"a is greater than b\")\n",
        "}"
      ],
      "metadata": {
        "colab": {
          "base_uri": "https://localhost:8080/"
        },
        "id": "WTHBgWmJ3_E_",
        "outputId": "423534c3-ec17-4d95-f0a9-6c5543bdc73b"
      },
      "execution_count": 5,
      "outputs": [
        {
          "output_type": "stream",
          "name": "stdout",
          "text": [
            "[1] \"a is greater than b\"\n"
          ]
        }
      ]
    },
    {
      "cell_type": "code",
      "source": [
        "x <- 41\n",
        "\n",
        "if (x > 10) {\n",
        "  print(\"Above ten\")\n",
        "  if (x > 20) {\n",
        "    print(\"and also above 20!\")\n",
        "  } else {\n",
        "    print(\"but not above 20.\")\n",
        "  }\n",
        "} else {\n",
        "  print(\"below 10.\")\n",
        "}"
      ],
      "metadata": {
        "colab": {
          "base_uri": "https://localhost:8080/"
        },
        "id": "kwRjRh_V9U5N",
        "outputId": "527d94e7-e0d4-40fe-d5b5-6e34a4fbc127"
      },
      "execution_count": 6,
      "outputs": [
        {
          "output_type": "stream",
          "name": "stdout",
          "text": [
            "[1] \"Above ten\"\n",
            "[1] \"and also above 20!\"\n"
          ]
        }
      ]
    },
    {
      "cell_type": "markdown",
      "source": [
        "# AND\n",
        "* The & symbol (and) is a logical operator, and is used to combine conditional statements:"
      ],
      "metadata": {
        "id": "cVO7m0KD9s5u"
      }
    },
    {
      "cell_type": "code",
      "source": [
        "a <- 200\n",
        "b <- 33\n",
        "c <- 600\n",
        "\n",
        "if (a > b & c > a) {\n",
        "  print(\"Both conditions are true\")\n",
        "}\n"
      ],
      "metadata": {
        "colab": {
          "base_uri": "https://localhost:8080/"
        },
        "id": "tizMkyb89VGy",
        "outputId": "d70dfd3f-992c-4d15-aaeb-239637f19fe0"
      },
      "execution_count": 9,
      "outputs": [
        {
          "output_type": "stream",
          "name": "stdout",
          "text": [
            "[1] \"Both conditions are true\"\n"
          ]
        }
      ]
    },
    {
      "cell_type": "markdown",
      "source": [
        "# OR\n",
        "* The | symbol (or) is a logical operator, and is used to combine conditional statements:"
      ],
      "metadata": {
        "id": "oJNYZ3Pa-AX4"
      }
    },
    {
      "cell_type": "code",
      "source": [
        "a <- 200\n",
        "b <- 33\n",
        "c <- 500\n",
        "\n",
        "if (a > b | a > c) {\n",
        "  print(\"At least one of the conditions is true\")\n",
        "}"
      ],
      "metadata": {
        "colab": {
          "base_uri": "https://localhost:8080/"
        },
        "id": "XRLtBKoI9VMR",
        "outputId": "369ba6c7-4792-4fc8-922b-60fc910ca927"
      },
      "execution_count": 10,
      "outputs": [
        {
          "output_type": "stream",
          "name": "stdout",
          "text": [
            "[1] \"At least one of the conditions is true\"\n"
          ]
        }
      ]
    },
    {
      "cell_type": "markdown",
      "source": [
        "# For Loops\n",
        "* A for loop is used for iterating over a sequence:"
      ],
      "metadata": {
        "id": "ouFXifPi-P2R"
      }
    },
    {
      "cell_type": "code",
      "source": [
        "for (x in 1:10) {\n",
        "  print(x)\n",
        "}"
      ],
      "metadata": {
        "colab": {
          "base_uri": "https://localhost:8080/"
        },
        "id": "PDDwRbiO9VPg",
        "outputId": "f1fa1b39-85af-4720-d6cf-97ac0e6c6d10"
      },
      "execution_count": 11,
      "outputs": [
        {
          "output_type": "stream",
          "name": "stdout",
          "text": [
            "[1] 1\n",
            "[1] 2\n",
            "[1] 3\n",
            "[1] 4\n",
            "[1] 5\n",
            "[1] 6\n",
            "[1] 7\n",
            "[1] 8\n",
            "[1] 9\n",
            "[1] 10\n"
          ]
        }
      ]
    },
    {
      "cell_type": "code",
      "source": [
        "fruits <- list(\"apple\", \"banana\", \"cherry\")\n",
        "\n",
        "for (x in fruits) {\n",
        "  print(x)\n",
        "}\n"
      ],
      "metadata": {
        "colab": {
          "base_uri": "https://localhost:8080/"
        },
        "id": "J3xdAYEy9VTi",
        "outputId": "e8207f36-9cca-4ee6-c9c4-48c25d5982d2"
      },
      "execution_count": 12,
      "outputs": [
        {
          "output_type": "stream",
          "name": "stdout",
          "text": [
            "[1] \"apple\"\n",
            "[1] \"banana\"\n",
            "[1] \"cherry\"\n"
          ]
        }
      ]
    },
    {
      "cell_type": "code",
      "source": [
        "dice <- c(1, 2, 3, 4, 5, 6)\n",
        "\n",
        "for (x in dice) {\n",
        "  print(x)\n",
        "}"
      ],
      "metadata": {
        "colab": {
          "base_uri": "https://localhost:8080/"
        },
        "id": "tb5BWEdJ9VWp",
        "outputId": "bdf318d1-b89f-4ce4-ace6-81728a5db4e0"
      },
      "execution_count": 13,
      "outputs": [
        {
          "output_type": "stream",
          "name": "stdout",
          "text": [
            "[1] 1\n",
            "[1] 2\n",
            "[1] 3\n",
            "[1] 4\n",
            "[1] 5\n",
            "[1] 6\n"
          ]
        }
      ]
    },
    {
      "cell_type": "markdown",
      "source": [
        "# Break\n",
        "* With the break statement, we can stop the loop before it has looped through all the items:\n",
        "\n"
      ],
      "metadata": {
        "id": "IR7-Ql1t_JMV"
      }
    },
    {
      "cell_type": "code",
      "source": [
        "fruits <- list(\"apple\", \"banana\", \"cherry\")\n",
        "\n",
        "for (x in fruits) {\n",
        "  if (x == \"cherry\") {\n",
        "    break\n",
        "  }\n",
        "  print(x)\n",
        "}\n"
      ],
      "metadata": {
        "colab": {
          "base_uri": "https://localhost:8080/"
        },
        "id": "W59MqgJT9VY_",
        "outputId": "774216d4-5ecd-4529-e332-76398adf338c"
      },
      "execution_count": 14,
      "outputs": [
        {
          "output_type": "stream",
          "name": "stdout",
          "text": [
            "[1] \"apple\"\n",
            "[1] \"banana\"\n"
          ]
        }
      ]
    },
    {
      "cell_type": "markdown",
      "source": [
        "# Next\n",
        "* With the next statement, we can skip an iteration without terminating the loop:"
      ],
      "metadata": {
        "id": "9uRFEKrQ_ekk"
      }
    },
    {
      "cell_type": "code",
      "source": [
        "fruits <- list(\"apple\", \"banana\", \"cherry\")\n",
        "\n",
        "for (x in fruits) {\n",
        "  if (x == \"banana\") {\n",
        "    next\n",
        "  }\n",
        "  print(x)\n",
        "}\n"
      ],
      "metadata": {
        "colab": {
          "base_uri": "https://localhost:8080/"
        },
        "id": "gvvbYlkJ9Vbn",
        "outputId": "fbf182b3-0373-427f-aed4-eb9ab4cd9429"
      },
      "execution_count": 15,
      "outputs": [
        {
          "output_type": "stream",
          "name": "stdout",
          "text": [
            "[1] \"apple\"\n",
            "[1] \"cherry\"\n"
          ]
        }
      ]
    },
    {
      "cell_type": "markdown",
      "source": [
        "# Nested Loops\n",
        "* It is also possible to place a loop inside another loop. This is called a nested loop:"
      ],
      "metadata": {
        "id": "--6GYKznApLR"
      }
    },
    {
      "cell_type": "code",
      "source": [
        "adj <- list(\"red\", \"big\", \"tasty\")\n",
        "\n",
        "fruits <- list(\"apple\", \"banana\", \"cherry\")\n",
        "  for (x in adj) {\n",
        "    for (y in fruits) {\n",
        "      print(paste(x, y))\n",
        "  }\n",
        "}"
      ],
      "metadata": {
        "colab": {
          "base_uri": "https://localhost:8080/"
        },
        "id": "FTbysuVJ9VeQ",
        "outputId": "edfe1a03-7672-4394-bd60-e01aaae783ab"
      },
      "execution_count": 16,
      "outputs": [
        {
          "output_type": "stream",
          "name": "stdout",
          "text": [
            "[1] \"red apple\"\n",
            "[1] \"red banana\"\n",
            "[1] \"red cherry\"\n",
            "[1] \"big apple\"\n",
            "[1] \"big banana\"\n",
            "[1] \"big cherry\"\n",
            "[1] \"tasty apple\"\n",
            "[1] \"tasty banana\"\n",
            "[1] \"tasty cherry\"\n"
          ]
        }
      ]
    },
    {
      "cell_type": "markdown",
      "source": [
        "\n",
        "# R Functions\n",
        "* A function is a block of code which only runs when it is called.\n",
        "\n",
        "* You can pass data, known as parameters, into a function.\n",
        "\n",
        "* A function can return data as a result."
      ],
      "metadata": {
        "id": "5UAyZ-HHBRau"
      }
    },
    {
      "cell_type": "markdown",
      "source": [
        "#### Creating a Function\n",
        "##### To create a function, use the function() keyword:"
      ],
      "metadata": {
        "id": "9R1IFt7wCO-f"
      }
    },
    {
      "cell_type": "code",
      "source": [
        "my_function <- function() { # create a function with the name my_function\n",
        "  print(\"Hello World!\")\n",
        "}\n",
        "my_function()"
      ],
      "metadata": {
        "colab": {
          "base_uri": "https://localhost:8080/"
        },
        "id": "lGeDGAII9Vhu",
        "outputId": "be8269da-f458-4e67-8e06-59d405cb5f42"
      },
      "execution_count": 18,
      "outputs": [
        {
          "output_type": "stream",
          "name": "stdout",
          "text": [
            "[1] \"Hello World!\"\n"
          ]
        }
      ]
    },
    {
      "cell_type": "code",
      "source": [
        "list1 <- function(){\n",
        "  print(\"Data Analyst\")\n",
        "}\n",
        "list1()"
      ],
      "metadata": {
        "colab": {
          "base_uri": "https://localhost:8080/"
        },
        "id": "R_o4XuN1Fje7",
        "outputId": "c11653f9-dd15-4283-8f10-f7a40fe40959"
      },
      "execution_count": 28,
      "outputs": [
        {
          "output_type": "stream",
          "name": "stdout",
          "text": [
            "[1] \"Data Analyst\"\n"
          ]
        }
      ]
    },
    {
      "cell_type": "code",
      "source": [
        "add <- function(){\n",
        "  print(\"kanchan\")\n",
        "}\n",
        "add()"
      ],
      "metadata": {
        "colab": {
          "base_uri": "https://localhost:8080/"
        },
        "id": "m32YDiMhGeAV",
        "outputId": "fa30d8dc-e684-4239-ed00-9a9a477cd9f2"
      },
      "execution_count": 30,
      "outputs": [
        {
          "output_type": "stream",
          "name": "stdout",
          "text": [
            "[1] \"kanchan\"\n"
          ]
        }
      ]
    },
    {
      "cell_type": "code",
      "source": [
        "my_function <- function(fname) {\n",
        "  paste(fname, \"Griffin\")\n",
        "}\n",
        "\n",
        "my_function(\"Peter\")\n",
        "my_function(\"Lois\")\n",
        "my_function(\"Stewie\")"
      ],
      "metadata": {
        "colab": {
          "base_uri": "https://localhost:8080/",
          "height": 69
        },
        "id": "sFzGAxUyClo6",
        "outputId": "cc0d9e7a-a845-423c-af1e-27102dbd5a98"
      },
      "execution_count": 21,
      "outputs": [
        {
          "output_type": "display_data",
          "data": {
            "text/html": [
              "'Peter Griffin'"
            ],
            "text/markdown": "'Peter Griffin'",
            "text/latex": "'Peter Griffin'",
            "text/plain": [
              "[1] \"Peter Griffin\""
            ]
          },
          "metadata": {}
        },
        {
          "output_type": "display_data",
          "data": {
            "text/html": [
              "'Lois Griffin'"
            ],
            "text/markdown": "'Lois Griffin'",
            "text/latex": "'Lois Griffin'",
            "text/plain": [
              "[1] \"Lois Griffin\""
            ]
          },
          "metadata": {}
        },
        {
          "output_type": "display_data",
          "data": {
            "text/html": [
              "'Stewie Griffin'"
            ],
            "text/markdown": "'Stewie Griffin'",
            "text/latex": "'Stewie Griffin'",
            "text/plain": [
              "[1] \"Stewie Griffin\""
            ]
          },
          "metadata": {}
        }
      ]
    },
    {
      "cell_type": "code",
      "source": [
        "company <- function(fname){\n",
        "  paste(fname, \"Pvt Limted\")\n",
        "}\n",
        "company(\"ExceLR\")\n",
        "company(\"Aara\")\n"
      ],
      "metadata": {
        "colab": {
          "base_uri": "https://localhost:8080/",
          "height": 52
        },
        "id": "SywMdHSiHENn",
        "outputId": "11c4ab4e-0b80-447a-cbb7-a99ba6793ef9"
      },
      "execution_count": 34,
      "outputs": [
        {
          "output_type": "display_data",
          "data": {
            "text/html": [
              "'ExceLR Pvt Limted'"
            ],
            "text/markdown": "'ExceLR Pvt Limted'",
            "text/latex": "'ExceLR Pvt Limted'",
            "text/plain": [
              "[1] \"ExceLR Pvt Limted\""
            ]
          },
          "metadata": {}
        },
        {
          "output_type": "display_data",
          "data": {
            "text/html": [
              "'Aara Pvt Limted'"
            ],
            "text/markdown": "'Aara Pvt Limted'",
            "text/latex": "'Aara Pvt Limted'",
            "text/plain": [
              "[1] \"Aara Pvt Limted\""
            ]
          },
          "metadata": {}
        }
      ]
    },
    {
      "cell_type": "code",
      "source": [
        "biodata <- function(fname){\n",
        "  paste(fname, \"Data Analyst\")\n",
        "}\n",
        "biodata(\"kanchan\")"
      ],
      "metadata": {
        "colab": {
          "base_uri": "https://localhost:8080/",
          "height": 34
        },
        "id": "UqwOANTJHEc_",
        "outputId": "fa4d0b2d-50d3-41bc-ce23-8c57a7322596"
      },
      "execution_count": 35,
      "outputs": [
        {
          "output_type": "display_data",
          "data": {
            "text/html": [
              "'kanchan Data Analyst'"
            ],
            "text/markdown": "'kanchan Data Analyst'",
            "text/latex": "'kanchan Data Analyst'",
            "text/plain": [
              "[1] \"kanchan Data Analyst\""
            ]
          },
          "metadata": {}
        }
      ]
    },
    {
      "cell_type": "code",
      "source": [
        "my_function = function(firstname, lastname){\n",
        "  paste(firstname, lastname)\n",
        "}\n",
        "my_function(\"kanchan\", \"yadav\")"
      ],
      "metadata": {
        "colab": {
          "base_uri": "https://localhost:8080/",
          "height": 34
        },
        "id": "AjZZlGIGClrb",
        "outputId": "302c9aaa-ccad-4b0b-bd6f-ed6e15ef0205"
      },
      "execution_count": 39,
      "outputs": [
        {
          "output_type": "display_data",
          "data": {
            "text/html": [
              "'kanchan yadav'"
            ],
            "text/markdown": "'kanchan yadav'",
            "text/latex": "'kanchan yadav'",
            "text/plain": [
              "[1] \"kanchan yadav\""
            ]
          },
          "metadata": {}
        }
      ]
    },
    {
      "cell_type": "markdown",
      "source": [
        "# Default Parameter Value"
      ],
      "metadata": {
        "id": "aTzqw1lTKLtA"
      }
    },
    {
      "cell_type": "code",
      "source": [
        "my_function <- function(country =\" USA \"){\n",
        "  paste(\"I am Form \",country)\n",
        "}\n",
        "my_function()\n",
        "my_function(\"India\")"
      ],
      "metadata": {
        "colab": {
          "base_uri": "https://localhost:8080/",
          "height": 52
        },
        "id": "rhA-oJe4CluB",
        "outputId": "7b4069af-86a1-4969-dd32-c9237580ec0e"
      },
      "execution_count": 41,
      "outputs": [
        {
          "output_type": "display_data",
          "data": {
            "text/html": [
              "<span style=white-space:pre-wrap>'I am Form   USA '</span>"
            ],
            "text/markdown": "<span style=white-space:pre-wrap>'I am Form   USA '</span>",
            "text/latex": "'I am Form   USA '",
            "text/plain": [
              "[1] \"I am Form   USA \""
            ]
          },
          "metadata": {}
        },
        {
          "output_type": "display_data",
          "data": {
            "text/html": [
              "<span style=white-space:pre-wrap>'I am Form  India'</span>"
            ],
            "text/markdown": "<span style=white-space:pre-wrap>'I am Form  India'</span>",
            "text/latex": "'I am Form  India'",
            "text/plain": [
              "[1] \"I am Form  India\""
            ]
          },
          "metadata": {}
        }
      ]
    },
    {
      "cell_type": "markdown",
      "source": [
        "# Return Values\n",
        "* To let a function return a result, use the return() function:"
      ],
      "metadata": {
        "id": "83itzpfbLMsM"
      }
    },
    {
      "cell_type": "code",
      "source": [
        "add <- function(x){\n",
        "  return(5+x)\n",
        "}\n",
        "add(5)\n",
        "add(9)"
      ],
      "metadata": {
        "colab": {
          "base_uri": "https://localhost:8080/",
          "height": 52
        },
        "id": "pEtgkCEyClwf",
        "outputId": "b785a64a-ebef-4239-a60b-de942e60a878"
      },
      "execution_count": 44,
      "outputs": [
        {
          "output_type": "display_data",
          "data": {
            "text/html": [
              "10"
            ],
            "text/markdown": "10",
            "text/latex": "10",
            "text/plain": [
              "[1] 10"
            ]
          },
          "metadata": {}
        },
        {
          "output_type": "display_data",
          "data": {
            "text/html": [
              "14"
            ],
            "text/markdown": "14",
            "text/latex": "14",
            "text/plain": [
              "[1] 14"
            ]
          },
          "metadata": {}
        }
      ]
    },
    {
      "cell_type": "code",
      "source": [
        "sub <- function(x){\n",
        "  return(18-x)\n",
        "}\n",
        "sub(2)"
      ],
      "metadata": {
        "colab": {
          "base_uri": "https://localhost:8080/",
          "height": 34
        },
        "id": "1P4jZV8xCly-",
        "outputId": "0fe241d5-4a80-49b7-a759-853dacb16f07"
      },
      "execution_count": 45,
      "outputs": [
        {
          "output_type": "display_data",
          "data": {
            "text/html": [
              "16"
            ],
            "text/markdown": "16",
            "text/latex": "16",
            "text/plain": [
              "[1] 16"
            ]
          },
          "metadata": {}
        }
      ]
    },
    {
      "cell_type": "markdown",
      "source": [
        "# Nested Functions\n",
        "##### There are two ways to create a nested function:\n",
        "\n",
        "* Call a function within another function.\n",
        "* Write a function within a function.\n"
      ],
      "metadata": {
        "id": "5gTQqqjFPQ5Y"
      }
    },
    {
      "cell_type": "code",
      "source": [
        "list1 <- function(x, y) {\n",
        "  a <- x + y\n",
        "  return (a)\n",
        "}\n",
        "\n",
        "list1(list1(2,2), list1(5,3))\n"
      ],
      "metadata": {
        "colab": {
          "base_uri": "https://localhost:8080/",
          "height": 34
        },
        "id": "URk3LJHBCl1u",
        "outputId": "307e9a4e-165a-4623-a986-ad829ac88d19"
      },
      "execution_count": 60,
      "outputs": [
        {
          "output_type": "display_data",
          "data": {
            "text/html": [
              "12"
            ],
            "text/markdown": "12",
            "text/latex": "12",
            "text/plain": [
              "[1] 12"
            ]
          },
          "metadata": {}
        }
      ]
    },
    {
      "cell_type": "code",
      "source": [
        "list1 <- function(x, y) {\n",
        "  a <- x + y\n",
        "  return (a)\n",
        "}\n",
        "list1(list1(2,2), list1(3,3))"
      ],
      "metadata": {
        "colab": {
          "base_uri": "https://localhost:8080/",
          "height": 34
        },
        "id": "zSYCbkwcCl5N",
        "outputId": "1bb9bfd3-d410-4e53-a3a1-e0f3c731ca1b"
      },
      "execution_count": 61,
      "outputs": [
        {
          "output_type": "display_data",
          "data": {
            "text/html": [
              "10"
            ],
            "text/markdown": "10",
            "text/latex": "10",
            "text/plain": [
              "[1] 10"
            ]
          },
          "metadata": {}
        }
      ]
    },
    {
      "cell_type": "markdown",
      "source": [
        "# Global Variables\n",
        "* Variables that are created outside of a function are known as global variables.\n",
        "\n",
        "* Global variables can be used by everyone, both inside of functions and outside."
      ],
      "metadata": {
        "id": "QU_gybaSVEJk"
      }
    },
    {
      "cell_type": "code",
      "source": [
        "cource <- \"Python Developer\"\n",
        "my_function <- function(){\n",
        "  paste(\"kanchan is a \", cource)\n",
        "}\n",
        "my_function()"
      ],
      "metadata": {
        "colab": {
          "base_uri": "https://localhost:8080/",
          "height": 34
        },
        "id": "rJ4wSmF_VAXF",
        "outputId": "66600589-a542-4e29-a7e4-8ef307862e62"
      },
      "execution_count": 67,
      "outputs": [
        {
          "output_type": "display_data",
          "data": {
            "text/html": [
              "<span style=white-space:pre-wrap>'kanchan is a  Python Developer'</span>"
            ],
            "text/markdown": "<span style=white-space:pre-wrap>'kanchan is a  Python Developer'</span>",
            "text/latex": "'kanchan is a  Python Developer'",
            "text/plain": [
              "[1] \"kanchan is a  Python Developer\""
            ]
          },
          "metadata": {}
        }
      ]
    },
    {
      "cell_type": "code",
      "source": [
        "cource <- \"I am  Data Analyst\"\n",
        "my_function <- function(){\n",
        "  txt <- \"I am Form India\"\n",
        "  paste(\"My Name is Kanchan and\",txt)\n",
        "}\n",
        "my_function()\n",
        "cource"
      ],
      "metadata": {
        "colab": {
          "base_uri": "https://localhost:8080/",
          "height": 52
        },
        "id": "Bj9gpEe7VAho",
        "outputId": "887eef6a-243d-4c60-f5b5-fe652da5dcfe"
      },
      "execution_count": 74,
      "outputs": [
        {
          "output_type": "display_data",
          "data": {
            "text/html": [
              "'My Name is Kanchan and I am Form India'"
            ],
            "text/markdown": "'My Name is Kanchan and I am Form India'",
            "text/latex": "'My Name is Kanchan and I am Form India'",
            "text/plain": [
              "[1] \"My Name is Kanchan and I am Form India\""
            ]
          },
          "metadata": {}
        },
        {
          "output_type": "display_data",
          "data": {
            "text/html": [
              "<span style=white-space:pre-wrap>'I am  Data Analyst'</span>"
            ],
            "text/markdown": "<span style=white-space:pre-wrap>'I am  Data Analyst'</span>",
            "text/latex": "'I am  Data Analyst'",
            "text/plain": [
              "[1] \"I am  Data Analyst\""
            ]
          },
          "metadata": {}
        }
      ]
    },
    {
      "cell_type": "code",
      "source": [
        "my_function <- function(){\n",
        "  txt <<- \"my name kanchan\"\n",
        "  return (\"i am a developer\")\n",
        "}\n",
        "my_function()\n",
        "txt"
      ],
      "metadata": {
        "colab": {
          "base_uri": "https://localhost:8080/",
          "height": 52
        },
        "id": "uBxu3IG8VAkE",
        "outputId": "5e915e18-d5c6-495f-f1ac-9136dc3d66bb"
      },
      "execution_count": 76,
      "outputs": [
        {
          "output_type": "display_data",
          "data": {
            "text/html": [
              "'i am a developer'"
            ],
            "text/markdown": "'i am a developer'",
            "text/latex": "'i am a developer'",
            "text/plain": [
              "[1] \"i am a developer\""
            ]
          },
          "metadata": {}
        },
        {
          "output_type": "display_data",
          "data": {
            "text/html": [
              "'my name kanchan'"
            ],
            "text/markdown": "'my name kanchan'",
            "text/latex": "'my name kanchan'",
            "text/plain": [
              "[1] \"my name kanchan\""
            ]
          },
          "metadata": {}
        }
      ]
    }
  ],
  "metadata": {
    "colab": {
      "provenance": [],
      "authorship_tag": "ABX9TyPDMaA0mjmXgaw8v1bbkwaq",
      "include_colab_link": true
    },
    "kernelspec": {
      "display_name": "R",
      "name": "ir"
    },
    "language_info": {
      "name": "R"
    }
  },
  "nbformat": 4,
  "nbformat_minor": 0
}